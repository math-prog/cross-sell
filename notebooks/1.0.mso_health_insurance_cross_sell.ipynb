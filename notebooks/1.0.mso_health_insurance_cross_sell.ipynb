{
 "cells": [
  {
   "cell_type": "markdown",
   "id": "e6550e1b",
   "metadata": {
    "hide_input": false
   },
   "source": [
    "# 0.0 Imports"
   ]
  },
  {
   "cell_type": "code",
   "execution_count": 1,
   "id": "8dbd8650",
   "metadata": {
    "ExecuteTime": {
     "end_time": "2022-05-30T23:11:35.648109Z",
     "start_time": "2022-05-30T23:11:33.173617Z"
    }
   },
   "outputs": [],
   "source": [
    "import pickle\n",
    "\n",
    "import pandas     as pd\n",
    "import numpy      as np\n",
    "import seaborn    as sns\n",
    "import boruta     as bt\n",
    "import scikitplot as skplt\n",
    "\n",
    "from IPython.display       import Image\n",
    "from IPython.core.display  import HTML\n",
    "\n",
    "from matplotlib            import pyplot          as plt\n",
    "from sklearn               import preprocessing   as pp\n",
    "from sklearn               import linear_model    as lm\n",
    "from sklearn               import model_selection as ms\n",
    "from sklearn               import ensemble        as en\n",
    "from sklearn               import neighbors       as nh\n",
    "from sklearn.metrics       import accuracy_score\n",
    "\n",
    "import warnings\n",
    "\n",
    "warnings.filterwarnings('ignore')"
   ]
  },
  {
   "cell_type": "markdown",
   "id": "854d3c30",
   "metadata": {},
   "source": [
    "## 0.1 Helper Functions"
   ]
  },
  {
   "cell_type": "code",
   "execution_count": 40,
   "id": "bfe7de43",
   "metadata": {
    "ExecuteTime": {
     "end_time": "2022-05-30T23:34:47.571883Z",
     "start_time": "2022-05-30T23:34:47.554756Z"
    }
   },
   "outputs": [
    {
     "name": "stdout",
     "output_type": "stream",
     "text": [
      "Populating the interactive namespace from numpy and matplotlib\n"
     ]
    },
    {
     "data": {
      "text/html": [
       "<style>.container { width:100% !important; }</style>"
      ],
      "text/plain": [
       "<IPython.core.display.HTML object>"
      ]
     },
     "metadata": {},
     "output_type": "display_data"
    }
   ],
   "source": [
    "def jupyter_settings():\n",
    "    %matplotlib inline\n",
    "    %pylab inline\n",
    "    \n",
    "    plt.style.use( 'bmh' )\n",
    "    plt.rcParams['figure.figsize'] = [25, 12]\n",
    "    plt.rcParams['font.size'] = 24\n",
    "    \n",
    "    display( HTML( '<style>.container { width:100% !important; }</style>') )\n",
    "    pd.options.display.max_columns = None\n",
    "    pd.options.display.max_rows = None\n",
    "    pd.set_option( 'display.expand_frame_repr', False )\n",
    "    \n",
    "    sns.set()\n",
    "    \n",
    "jupyter_settings()"
   ]
  },
  {
   "cell_type": "markdown",
   "id": "96e2370b",
   "metadata": {
    "hide_input": false
   },
   "source": [
    "## 0.2 Loading Data"
   ]
  },
  {
   "cell_type": "code",
   "execution_count": 3,
   "id": "bc73f970",
   "metadata": {
    "ExecuteTime": {
     "end_time": "2022-05-30T23:11:39.146718Z",
     "start_time": "2022-05-30T23:11:38.671694Z"
    }
   },
   "outputs": [
    {
     "data": {
      "text/html": [
       "<div>\n",
       "<style scoped>\n",
       "    .dataframe tbody tr th:only-of-type {\n",
       "        vertical-align: middle;\n",
       "    }\n",
       "\n",
       "    .dataframe tbody tr th {\n",
       "        vertical-align: top;\n",
       "    }\n",
       "\n",
       "    .dataframe thead th {\n",
       "        text-align: right;\n",
       "    }\n",
       "</style>\n",
       "<table border=\"1\" class=\"dataframe\">\n",
       "  <thead>\n",
       "    <tr style=\"text-align: right;\">\n",
       "      <th></th>\n",
       "      <th>id</th>\n",
       "      <th>Gender</th>\n",
       "      <th>Age</th>\n",
       "      <th>Driving_License</th>\n",
       "      <th>Region_Code</th>\n",
       "      <th>Previously_Insured</th>\n",
       "      <th>Vehicle_Age</th>\n",
       "      <th>Vehicle_Damage</th>\n",
       "      <th>Annual_Premium</th>\n",
       "      <th>Policy_Sales_Channel</th>\n",
       "      <th>Vintage</th>\n",
       "      <th>Response</th>\n",
       "    </tr>\n",
       "  </thead>\n",
       "  <tbody>\n",
       "    <tr>\n",
       "      <th>0</th>\n",
       "      <td>1</td>\n",
       "      <td>Male</td>\n",
       "      <td>44</td>\n",
       "      <td>1</td>\n",
       "      <td>28.0</td>\n",
       "      <td>0</td>\n",
       "      <td>&gt; 2 Years</td>\n",
       "      <td>Yes</td>\n",
       "      <td>40454.0</td>\n",
       "      <td>26.0</td>\n",
       "      <td>217</td>\n",
       "      <td>1</td>\n",
       "    </tr>\n",
       "    <tr>\n",
       "      <th>1</th>\n",
       "      <td>2</td>\n",
       "      <td>Male</td>\n",
       "      <td>76</td>\n",
       "      <td>1</td>\n",
       "      <td>3.0</td>\n",
       "      <td>0</td>\n",
       "      <td>1-2 Year</td>\n",
       "      <td>No</td>\n",
       "      <td>33536.0</td>\n",
       "      <td>26.0</td>\n",
       "      <td>183</td>\n",
       "      <td>0</td>\n",
       "    </tr>\n",
       "    <tr>\n",
       "      <th>2</th>\n",
       "      <td>3</td>\n",
       "      <td>Male</td>\n",
       "      <td>47</td>\n",
       "      <td>1</td>\n",
       "      <td>28.0</td>\n",
       "      <td>0</td>\n",
       "      <td>&gt; 2 Years</td>\n",
       "      <td>Yes</td>\n",
       "      <td>38294.0</td>\n",
       "      <td>26.0</td>\n",
       "      <td>27</td>\n",
       "      <td>1</td>\n",
       "    </tr>\n",
       "    <tr>\n",
       "      <th>3</th>\n",
       "      <td>4</td>\n",
       "      <td>Male</td>\n",
       "      <td>21</td>\n",
       "      <td>1</td>\n",
       "      <td>11.0</td>\n",
       "      <td>1</td>\n",
       "      <td>&lt; 1 Year</td>\n",
       "      <td>No</td>\n",
       "      <td>28619.0</td>\n",
       "      <td>152.0</td>\n",
       "      <td>203</td>\n",
       "      <td>0</td>\n",
       "    </tr>\n",
       "    <tr>\n",
       "      <th>4</th>\n",
       "      <td>5</td>\n",
       "      <td>Female</td>\n",
       "      <td>29</td>\n",
       "      <td>1</td>\n",
       "      <td>41.0</td>\n",
       "      <td>1</td>\n",
       "      <td>&lt; 1 Year</td>\n",
       "      <td>No</td>\n",
       "      <td>27496.0</td>\n",
       "      <td>152.0</td>\n",
       "      <td>39</td>\n",
       "      <td>0</td>\n",
       "    </tr>\n",
       "  </tbody>\n",
       "</table>\n",
       "</div>"
      ],
      "text/plain": [
       "   id  Gender  Age  Driving_License  Region_Code  Previously_Insured Vehicle_Age Vehicle_Damage  Annual_Premium  Policy_Sales_Channel  Vintage  Response\n",
       "0   1    Male   44                1         28.0                   0   > 2 Years            Yes         40454.0                  26.0      217         1\n",
       "1   2    Male   76                1          3.0                   0    1-2 Year             No         33536.0                  26.0      183         0\n",
       "2   3    Male   47                1         28.0                   0   > 2 Years            Yes         38294.0                  26.0       27         1\n",
       "3   4    Male   21                1         11.0                   1    < 1 Year             No         28619.0                 152.0      203         0\n",
       "4   5  Female   29                1         41.0                   1    < 1 Year             No         27496.0                 152.0       39         0"
      ]
     },
     "execution_count": 3,
     "metadata": {},
     "output_type": "execute_result"
    }
   ],
   "source": [
    "# import data\n",
    "\n",
    "df_raw = pd.read_csv('../data/raw/train.csv')\n",
    "df_raw.head(5)"
   ]
  },
  {
   "cell_type": "code",
   "execution_count": 4,
   "id": "dcef4345",
   "metadata": {
    "ExecuteTime": {
     "end_time": "2022-05-30T23:11:40.345129Z",
     "start_time": "2022-05-30T23:11:40.340352Z"
    }
   },
   "outputs": [
    {
     "data": {
      "text/plain": [
       "Index(['id', 'Gender', 'Age', 'Driving_License', 'Region_Code',\n",
       "       'Previously_Insured', 'Vehicle_Age', 'Vehicle_Damage', 'Annual_Premium',\n",
       "       'Policy_Sales_Channel', 'Vintage', 'Response'],\n",
       "      dtype='object')"
      ]
     },
     "execution_count": 4,
     "metadata": {},
     "output_type": "execute_result"
    }
   ],
   "source": [
    "df_raw.columns"
   ]
  },
  {
   "cell_type": "code",
   "execution_count": 5,
   "id": "facfe428",
   "metadata": {
    "ExecuteTime": {
     "end_time": "2022-05-30T23:11:40.878466Z",
     "start_time": "2022-05-30T23:11:40.870793Z"
    }
   },
   "outputs": [
    {
     "data": {
      "text/plain": [
       "Index(['id', 'gender', 'age', 'driving_license', 'region_code',\n",
       "       'previously_insured', 'vehicle_age', 'vehicle_damage', 'annual_premium',\n",
       "       'policy_sales_channel', 'vintage', 'response'],\n",
       "      dtype='object')"
      ]
     },
     "execution_count": 5,
     "metadata": {},
     "output_type": "execute_result"
    }
   ],
   "source": [
    "columns_new = ['id', 'gender', 'age', 'driving_license', 'region_code',\n",
    "       'previously_insured', 'vehicle_age', 'vehicle_damage', 'annual_premium',\n",
    "       'policy_sales_channel', 'vintage', 'response']\n",
    "\n",
    "df_raw.columns = columns_new\n",
    "df_raw.columns"
   ]
  },
  {
   "cell_type": "code",
   "execution_count": 6,
   "id": "52775f3f",
   "metadata": {
    "ExecuteTime": {
     "end_time": "2022-05-30T23:11:42.580160Z",
     "start_time": "2022-05-30T23:11:42.577765Z"
    }
   },
   "outputs": [],
   "source": [
    "df1 = df_raw"
   ]
  },
  {
   "cell_type": "markdown",
   "id": "910765c8",
   "metadata": {
    "hide_input": false
   },
   "source": [
    "# 1.0 Data Description"
   ]
  },
  {
   "cell_type": "markdown",
   "id": "25ba5b0d",
   "metadata": {
    "hide_input": false
   },
   "source": [
    "## 1.1 Data Dimension"
   ]
  },
  {
   "cell_type": "code",
   "execution_count": 7,
   "id": "a594d471",
   "metadata": {
    "ExecuteTime": {
     "end_time": "2022-05-30T23:11:44.207031Z",
     "start_time": "2022-05-30T23:11:44.200748Z"
    }
   },
   "outputs": [
    {
     "name": "stdout",
     "output_type": "stream",
     "text": [
      "Total of rows: 381109\n",
      "Total of columns: 12\n"
     ]
    }
   ],
   "source": [
    "print('Total of rows: {}' .format(df1.shape[0]))\n",
    "print('Total of columns: {}' .format(df1.shape[1]))"
   ]
  },
  {
   "cell_type": "markdown",
   "id": "11d1b389",
   "metadata": {},
   "source": [
    "## 1.2. Data Types"
   ]
  },
  {
   "cell_type": "code",
   "execution_count": 8,
   "id": "d652211d",
   "metadata": {
    "ExecuteTime": {
     "end_time": "2022-05-30T23:11:45.658966Z",
     "start_time": "2022-05-30T23:11:45.645661Z"
    }
   },
   "outputs": [
    {
     "data": {
      "text/plain": [
       "id                        int64\n",
       "gender                   object\n",
       "age                       int64\n",
       "driving_license           int64\n",
       "region_code             float64\n",
       "previously_insured        int64\n",
       "vehicle_age              object\n",
       "vehicle_damage           object\n",
       "annual_premium          float64\n",
       "policy_sales_channel    float64\n",
       "vintage                   int64\n",
       "response                  int64\n",
       "dtype: object"
      ]
     },
     "execution_count": 8,
     "metadata": {},
     "output_type": "execute_result"
    }
   ],
   "source": [
    "df1.dtypes"
   ]
  },
  {
   "cell_type": "markdown",
   "id": "f14cffea",
   "metadata": {},
   "source": [
    "## 1.3. Check NA "
   ]
  },
  {
   "cell_type": "code",
   "execution_count": 9,
   "id": "bf902a9c",
   "metadata": {
    "ExecuteTime": {
     "end_time": "2022-05-30T23:11:47.399465Z",
     "start_time": "2022-05-30T23:11:47.225581Z"
    }
   },
   "outputs": [
    {
     "data": {
      "text/plain": [
       "id                      0\n",
       "gender                  0\n",
       "age                     0\n",
       "driving_license         0\n",
       "region_code             0\n",
       "previously_insured      0\n",
       "vehicle_age             0\n",
       "vehicle_damage          0\n",
       "annual_premium          0\n",
       "policy_sales_channel    0\n",
       "vintage                 0\n",
       "response                0\n",
       "dtype: int64"
      ]
     },
     "execution_count": 9,
     "metadata": {},
     "output_type": "execute_result"
    }
   ],
   "source": [
    "df1.isna().sum()"
   ]
  },
  {
   "cell_type": "markdown",
   "id": "184d113f",
   "metadata": {
    "hide_input": false
   },
   "source": [
    "## 1.4. Data Descriptive"
   ]
  },
  {
   "cell_type": "code",
   "execution_count": 10,
   "id": "d59e2132",
   "metadata": {
    "ExecuteTime": {
     "end_time": "2022-05-26T23:09:58.311237Z",
     "start_time": "2022-05-26T23:09:58.303135Z"
    }
   },
   "outputs": [],
   "source": [
    "num_attributes = df1.select_dtypes(include = ['int64', 'float64'])"
   ]
  },
  {
   "cell_type": "code",
   "execution_count": 11,
   "id": "0df9614b",
   "metadata": {
    "ExecuteTime": {
     "end_time": "2022-05-26T23:09:59.425507Z",
     "start_time": "2022-05-26T23:09:58.496413Z"
    },
    "hide_input": false
   },
   "outputs": [
    {
     "data": {
      "text/html": [
       "<div>\n",
       "<style scoped>\n",
       "    .dataframe tbody tr th:only-of-type {\n",
       "        vertical-align: middle;\n",
       "    }\n",
       "\n",
       "    .dataframe tbody tr th {\n",
       "        vertical-align: top;\n",
       "    }\n",
       "\n",
       "    .dataframe thead th {\n",
       "        text-align: right;\n",
       "    }\n",
       "</style>\n",
       "<table border=\"1\" class=\"dataframe\">\n",
       "  <thead>\n",
       "    <tr style=\"text-align: right;\">\n",
       "      <th></th>\n",
       "      <th>attributes</th>\n",
       "      <th>min</th>\n",
       "      <th>max</th>\n",
       "      <th>range</th>\n",
       "      <th>mean</th>\n",
       "      <th>median</th>\n",
       "      <th>std</th>\n",
       "      <th>skew</th>\n",
       "      <th>kurtosis</th>\n",
       "    </tr>\n",
       "  </thead>\n",
       "  <tbody>\n",
       "    <tr>\n",
       "      <th>0</th>\n",
       "      <td>id</td>\n",
       "      <td>1.0</td>\n",
       "      <td>381109.0</td>\n",
       "      <td>381108.0</td>\n",
       "      <td>190555.000000</td>\n",
       "      <td>190555.0</td>\n",
       "      <td>110016.691870</td>\n",
       "      <td>9.443274e-16</td>\n",
       "      <td>-1.200000</td>\n",
       "    </tr>\n",
       "    <tr>\n",
       "      <th>1</th>\n",
       "      <td>age</td>\n",
       "      <td>20.0</td>\n",
       "      <td>85.0</td>\n",
       "      <td>65.0</td>\n",
       "      <td>38.822584</td>\n",
       "      <td>36.0</td>\n",
       "      <td>15.511591</td>\n",
       "      <td>6.725390e-01</td>\n",
       "      <td>-0.565655</td>\n",
       "    </tr>\n",
       "    <tr>\n",
       "      <th>2</th>\n",
       "      <td>driving_license</td>\n",
       "      <td>0.0</td>\n",
       "      <td>1.0</td>\n",
       "      <td>1.0</td>\n",
       "      <td>0.997869</td>\n",
       "      <td>1.0</td>\n",
       "      <td>0.046109</td>\n",
       "      <td>-2.159518e+01</td>\n",
       "      <td>464.354302</td>\n",
       "    </tr>\n",
       "    <tr>\n",
       "      <th>3</th>\n",
       "      <td>region_code</td>\n",
       "      <td>0.0</td>\n",
       "      <td>52.0</td>\n",
       "      <td>52.0</td>\n",
       "      <td>26.388807</td>\n",
       "      <td>28.0</td>\n",
       "      <td>13.229871</td>\n",
       "      <td>-1.152664e-01</td>\n",
       "      <td>-0.867857</td>\n",
       "    </tr>\n",
       "    <tr>\n",
       "      <th>4</th>\n",
       "      <td>previously_insured</td>\n",
       "      <td>0.0</td>\n",
       "      <td>1.0</td>\n",
       "      <td>1.0</td>\n",
       "      <td>0.458210</td>\n",
       "      <td>0.0</td>\n",
       "      <td>0.498251</td>\n",
       "      <td>1.677471e-01</td>\n",
       "      <td>-1.971871</td>\n",
       "    </tr>\n",
       "    <tr>\n",
       "      <th>5</th>\n",
       "      <td>annual_premium</td>\n",
       "      <td>2630.0</td>\n",
       "      <td>540165.0</td>\n",
       "      <td>537535.0</td>\n",
       "      <td>30564.389581</td>\n",
       "      <td>31669.0</td>\n",
       "      <td>17213.132474</td>\n",
       "      <td>1.766087e+00</td>\n",
       "      <td>34.004569</td>\n",
       "    </tr>\n",
       "    <tr>\n",
       "      <th>6</th>\n",
       "      <td>policy_sales_channel</td>\n",
       "      <td>1.0</td>\n",
       "      <td>163.0</td>\n",
       "      <td>162.0</td>\n",
       "      <td>112.034295</td>\n",
       "      <td>133.0</td>\n",
       "      <td>54.203924</td>\n",
       "      <td>-9.000081e-01</td>\n",
       "      <td>-0.970810</td>\n",
       "    </tr>\n",
       "    <tr>\n",
       "      <th>7</th>\n",
       "      <td>vintage</td>\n",
       "      <td>10.0</td>\n",
       "      <td>299.0</td>\n",
       "      <td>289.0</td>\n",
       "      <td>154.347397</td>\n",
       "      <td>154.0</td>\n",
       "      <td>83.671194</td>\n",
       "      <td>3.029517e-03</td>\n",
       "      <td>-1.200688</td>\n",
       "    </tr>\n",
       "    <tr>\n",
       "      <th>8</th>\n",
       "      <td>response</td>\n",
       "      <td>0.0</td>\n",
       "      <td>1.0</td>\n",
       "      <td>1.0</td>\n",
       "      <td>0.122563</td>\n",
       "      <td>0.0</td>\n",
       "      <td>0.327935</td>\n",
       "      <td>2.301906e+00</td>\n",
       "      <td>3.298788</td>\n",
       "    </tr>\n",
       "  </tbody>\n",
       "</table>\n",
       "</div>"
      ],
      "text/plain": [
       "             attributes     min       max     range           mean    median            std          skew    kurtosis\n",
       "0                    id     1.0  381109.0  381108.0  190555.000000  190555.0  110016.691870  9.443274e-16   -1.200000\n",
       "1                   age    20.0      85.0      65.0      38.822584      36.0      15.511591  6.725390e-01   -0.565655\n",
       "2       driving_license     0.0       1.0       1.0       0.997869       1.0       0.046109 -2.159518e+01  464.354302\n",
       "3           region_code     0.0      52.0      52.0      26.388807      28.0      13.229871 -1.152664e-01   -0.867857\n",
       "4    previously_insured     0.0       1.0       1.0       0.458210       0.0       0.498251  1.677471e-01   -1.971871\n",
       "5        annual_premium  2630.0  540165.0  537535.0   30564.389581   31669.0   17213.132474  1.766087e+00   34.004569\n",
       "6  policy_sales_channel     1.0     163.0     162.0     112.034295     133.0      54.203924 -9.000081e-01   -0.970810\n",
       "7               vintage    10.0     299.0     289.0     154.347397     154.0      83.671194  3.029517e-03   -1.200688\n",
       "8              response     0.0       1.0       1.0       0.122563       0.0       0.327935  2.301906e+00    3.298788"
      ]
     },
     "execution_count": 11,
     "metadata": {},
     "output_type": "execute_result"
    }
   ],
   "source": [
    "# Central Tendency - mean, median\n",
    "ct1 = pd.DataFrame(num_attributes.apply(np.mean)).T\n",
    "ct2 = pd.DataFrame(num_attributes.apply(np.median)).T\n",
    "\n",
    "# Dispersion - std, min, max, range, skew, kurtosis\n",
    "d1 = pd.DataFrame(num_attributes.apply(np.std)).T\n",
    "d2 = pd.DataFrame(num_attributes.apply(min)).T\n",
    "d3 = pd.DataFrame(num_attributes.apply(max)).T\n",
    "d4 = pd.DataFrame(num_attributes.apply(lambda x: x.max() - x.min())).T\n",
    "d5 = pd.DataFrame(num_attributes.apply(lambda x: x.skew())).T\n",
    "d6 = pd.DataFrame(num_attributes.apply(lambda x: x.kurtosis())).T\n",
    "\n",
    "# Concatenate\n",
    "m = pd.concat([d2, d3, d4, ct1, ct2, d1, d5, d6]).T.reset_index()\n",
    "m.columns = ['attributes', 'min', 'max', 'range', 'mean', 'median', 'std', 'skew', 'kurtosis']\n",
    "m"
   ]
  },
  {
   "cell_type": "code",
   "execution_count": 10,
   "id": "45b71e3f",
   "metadata": {
    "ExecuteTime": {
     "end_time": "2022-05-30T23:11:54.869201Z",
     "start_time": "2022-05-30T23:11:54.865350Z"
    }
   },
   "outputs": [],
   "source": [
    "df2 = df1"
   ]
  },
  {
   "cell_type": "markdown",
   "id": "36acb473",
   "metadata": {},
   "source": [
    "## 2.0. Feature Engineering"
   ]
  },
  {
   "cell_type": "code",
   "execution_count": 11,
   "id": "4ec040d4",
   "metadata": {
    "ExecuteTime": {
     "end_time": "2022-05-30T23:11:56.886537Z",
     "start_time": "2022-05-30T23:11:56.877142Z"
    }
   },
   "outputs": [
    {
     "data": {
      "text/plain": [
       "id                        int64\n",
       "gender                   object\n",
       "age                       int64\n",
       "driving_license           int64\n",
       "region_code             float64\n",
       "previously_insured        int64\n",
       "vehicle_age              object\n",
       "vehicle_damage           object\n",
       "annual_premium          float64\n",
       "policy_sales_channel    float64\n",
       "vintage                   int64\n",
       "response                  int64\n",
       "dtype: object"
      ]
     },
     "execution_count": 11,
     "metadata": {},
     "output_type": "execute_result"
    }
   ],
   "source": [
    "df2.dtypes"
   ]
  },
  {
   "cell_type": "code",
   "execution_count": 12,
   "id": "ab8c7bde",
   "metadata": {
    "ExecuteTime": {
     "end_time": "2022-05-30T23:11:57.340124Z",
     "start_time": "2022-05-30T23:11:57.308187Z"
    },
    "scrolled": true
   },
   "outputs": [
    {
     "data": {
      "text/plain": [
       "array(['> 2 Years', '1-2 Year', '< 1 Year'], dtype=object)"
      ]
     },
     "execution_count": 12,
     "metadata": {},
     "output_type": "execute_result"
    }
   ],
   "source": [
    "df2['vehicle_age'].unique()"
   ]
  },
  {
   "cell_type": "code",
   "execution_count": 13,
   "id": "3fcbcb66",
   "metadata": {
    "ExecuteTime": {
     "end_time": "2022-05-30T23:11:58.343592Z",
     "start_time": "2022-05-30T23:11:58.317948Z"
    }
   },
   "outputs": [
    {
     "data": {
      "text/plain": [
       "array(['Yes', 'No'], dtype=object)"
      ]
     },
     "execution_count": 13,
     "metadata": {},
     "output_type": "execute_result"
    }
   ],
   "source": [
    "df2['vehicle_damage'].unique()"
   ]
  },
  {
   "cell_type": "code",
   "execution_count": 14,
   "id": "17d68318",
   "metadata": {
    "ExecuteTime": {
     "end_time": "2022-05-30T23:11:58.959642Z",
     "start_time": "2022-05-30T23:11:58.746070Z"
    }
   },
   "outputs": [],
   "source": [
    "df2['vehicle_age'] = df2['vehicle_age'].apply(lambda x: '<1_year' if x== '< 1 Year' else '1-2_year' if x == '1-2 Year' else '>2_years')\n",
    "df2['vehicle_damage'] = df2['vehicle_damage'].apply(lambda x: 1 if x == 'Yes' else 0)"
   ]
  },
  {
   "cell_type": "code",
   "execution_count": 15,
   "id": "f0d24fcd",
   "metadata": {
    "ExecuteTime": {
     "end_time": "2022-05-30T23:11:59.433843Z",
     "start_time": "2022-05-30T23:11:59.428874Z"
    }
   },
   "outputs": [],
   "source": [
    "df3 = df2"
   ]
  },
  {
   "cell_type": "markdown",
   "id": "9b38649b",
   "metadata": {},
   "source": [
    "# 3.0 Data Filtering "
   ]
  },
  {
   "cell_type": "code",
   "execution_count": 16,
   "id": "03da8f72",
   "metadata": {
    "ExecuteTime": {
     "end_time": "2022-05-30T23:12:00.655050Z",
     "start_time": "2022-05-30T23:12:00.652314Z"
    }
   },
   "outputs": [],
   "source": [
    "df4 = df3"
   ]
  },
  {
   "cell_type": "markdown",
   "id": "189375d0",
   "metadata": {},
   "source": [
    "# 4.0 EDA "
   ]
  },
  {
   "cell_type": "markdown",
   "id": "981fe89d",
   "metadata": {},
   "source": [
    "## 4.1 Univariate Analysis"
   ]
  },
  {
   "cell_type": "code",
   "execution_count": 17,
   "id": "a0291de9",
   "metadata": {
    "ExecuteTime": {
     "end_time": "2022-05-30T23:12:04.993552Z",
     "start_time": "2022-05-30T23:12:04.984079Z"
    },
    "scrolled": true
   },
   "outputs": [
    {
     "data": {
      "text/plain": [
       "id                        int64\n",
       "gender                   object\n",
       "age                       int64\n",
       "driving_license           int64\n",
       "region_code             float64\n",
       "previously_insured        int64\n",
       "vehicle_age              object\n",
       "vehicle_damage            int64\n",
       "annual_premium          float64\n",
       "policy_sales_channel    float64\n",
       "vintage                   int64\n",
       "response                  int64\n",
       "dtype: object"
      ]
     },
     "execution_count": 17,
     "metadata": {},
     "output_type": "execute_result"
    }
   ],
   "source": [
    "df4.dtypes"
   ]
  },
  {
   "cell_type": "markdown",
   "id": "c393f7ce",
   "metadata": {},
   "source": [
    "### 4.1.1. Age"
   ]
  },
  {
   "cell_type": "code",
   "execution_count": 20,
   "id": "2a2bfcce",
   "metadata": {
    "ExecuteTime": {
     "end_time": "2022-05-10T01:17:58.842340Z",
     "start_time": "2022-05-10T01:17:58.617504Z"
    }
   },
   "outputs": [
    {
     "data": {
      "text/plain": [
       "<AxesSubplot:xlabel='response', ylabel='age'>"
      ]
     },
     "execution_count": 20,
     "metadata": {},
     "output_type": "execute_result"
    },
    {
     "data": {
      "image/png": "[encoded data removed]",
      "text/plain": [
       "<Figure size 720x432 with 1 Axes>"
      ]
     },
     "metadata": {},
     "output_type": "display_data"
    }
   ],
   "source": [
    "# Age\n",
    "plt.figure(figsize = (10,6))\n",
    "sns.boxplot(y = 'age', x = 'response', data = df4)"
   ]
  },
  {
   "cell_type": "code",
   "execution_count": 21,
   "id": "781234d2",
   "metadata": {
    "ExecuteTime": {
     "end_time": "2022-05-04T23:12:16.482466Z",
     "start_time": "2022-05-04T23:12:15.917174Z"
    }
   },
   "outputs": [
    {
     "data": {
      "text/plain": [
       "<AxesSubplot:xlabel='age', ylabel='Count'>"
      ]
     },
     "execution_count": 21,
     "metadata": {},
     "output_type": "execute_result"
    },
    {
     "data": {
      "image/png": "[encoded data removed]",
      "text/plain": [
       "<Figure size 720x432 with 1 Axes>"
      ]
     },
     "metadata": {},
     "output_type": "display_data"
    }
   ],
   "source": [
    "plt.figure(figsize(10,6))\n",
    "aux0 = df4.loc[df4['response']  == 0, 'age']\n",
    "sns.histplot(aux0)"
   ]
  },
  {
   "cell_type": "code",
   "execution_count": 130,
   "id": "70c7e828",
   "metadata": {
    "ExecuteTime": {
     "end_time": "2022-05-04T00:55:22.440507Z",
     "start_time": "2022-05-04T00:55:21.913315Z"
    },
    "scrolled": false
   },
   "outputs": [
    {
     "data": {
      "text/plain": [
       "<AxesSubplot:xlabel='age', ylabel='Count'>"
      ]
     },
     "execution_count": 130,
     "metadata": {},
     "output_type": "execute_result"
    },
    {
     "data": {
      "image/png": "[encoded data removed]",
      "text/plain": [
       "<Figure size 720x432 with 1 Axes>"
      ]
     },
     "metadata": {},
     "output_type": "display_data"
    }
   ],
   "source": [
    "plt.figure(figsize(10,6))\n",
    "aux0 = df4.loc[df4['response'] == 1, 'age']\n",
    "sns.histplot(aux0)"
   ]
  },
  {
   "cell_type": "markdown",
   "id": "284c83d8",
   "metadata": {},
   "source": [
    "### 4.1.2. Annual Income"
   ]
  },
  {
   "cell_type": "code",
   "execution_count": 42,
   "id": "1282281d",
   "metadata": {
    "ExecuteTime": {
     "end_time": "2022-05-05T01:07:21.697483Z",
     "start_time": "2022-05-05T01:07:21.415341Z"
    }
   },
   "outputs": [
    {
     "data": {
      "text/plain": [
       "<AxesSubplot:xlabel='response', ylabel='annual_premium'>"
      ]
     },
     "execution_count": 42,
     "metadata": {},
     "output_type": "execute_result"
    },
    {
     "data": {
      "image/png": "[encoded data removed]",
      "text/plain": [
       "<Figure size 720x432 with 1 Axes>"
      ]
     },
     "metadata": {},
     "output_type": "display_data"
    }
   ],
   "source": [
    "plt.figure(figsize(10,6))\n",
    "sns.boxplot(x = 'response', y = 'annual_premium', data = df4)"
   ]
  },
  {
   "cell_type": "code",
   "execution_count": 28,
   "id": "11b39001",
   "metadata": {
    "ExecuteTime": {
     "end_time": "2022-05-10T01:33:25.651773Z",
     "start_time": "2022-05-10T01:33:24.854910Z"
    }
   },
   "outputs": [
    {
     "data": {
      "text/plain": [
       "<AxesSubplot:xlabel='annual_premium', ylabel='Count'>"
      ]
     },
     "execution_count": 28,
     "metadata": {},
     "output_type": "execute_result"
    },
    {
     "data": {
      "image/png": "[encoded data removed]",
      "text/plain": [
       "<Figure size 720x432 with 1 Axes>"
      ]
     },
     "metadata": {},
     "output_type": "display_data"
    }
   ],
   "source": [
    "plt.figure(figsize(10,6))\n",
    "df4 = df4[(df4['annual_premium'] > 10000) & (df4['annual_premium'] <100000)]\n",
    "aux0 = df4.loc[df4['response'] == 0, 'annual_premium']\n",
    "sns.histplot(aux0)"
   ]
  },
  {
   "cell_type": "code",
   "execution_count": 29,
   "id": "4eca4639",
   "metadata": {
    "ExecuteTime": {
     "end_time": "2022-05-10T01:38:43.380036Z",
     "start_time": "2022-05-10T01:38:42.910987Z"
    }
   },
   "outputs": [
    {
     "data": {
      "text/plain": [
       "<AxesSubplot:xlabel='annual_premium', ylabel='Count'>"
      ]
     },
     "execution_count": 29,
     "metadata": {},
     "output_type": "execute_result"
    },
    {
     "data": {
      "image/png": "[encoded data removed]",
      "text/plain": [
       "<Figure size 720x432 with 1 Axes>"
      ]
     },
     "metadata": {},
     "output_type": "display_data"
    }
   ],
   "source": [
    "plt.figure(figsize(10,6))\n",
    "aux0 = df4.loc[df4['response'] == 1, 'annual_premium']\n",
    "sns.histplot(aux0)"
   ]
  },
  {
   "cell_type": "markdown",
   "id": "738dbab0",
   "metadata": {},
   "source": [
    "### 4.1.3. Driving License"
   ]
  },
  {
   "cell_type": "code",
   "execution_count": 19,
   "id": "eb2c8e76",
   "metadata": {
    "ExecuteTime": {
     "end_time": "2022-05-11T23:36:41.278396Z",
     "start_time": "2022-05-11T23:36:41.078447Z"
    }
   },
   "outputs": [
    {
     "data": {
      "text/plain": [
       "<AxesSubplot:xlabel='response', ylabel='driving_license'>"
      ]
     },
     "execution_count": 19,
     "metadata": {},
     "output_type": "execute_result"
    },
    {
     "data": {
      "image/png": "[encoded data removed]",
      "text/plain": [
       "<Figure size 576x432 with 1 Axes>"
      ]
     },
     "metadata": {},
     "output_type": "display_data"
    }
   ],
   "source": [
    "# driving_license\n",
    "aux0 = df4[['driving_license', 'response']].groupby('response').sum().reset_index()\n",
    "plt.figure(figsize(8,6))\n",
    "sns.barplot(x = 'response', y = 'driving_license', data = aux0)"
   ]
  },
  {
   "cell_type": "markdown",
   "id": "01f9c105",
   "metadata": {},
   "source": [
    "### 4.1.4. Region Code"
   ]
  },
  {
   "cell_type": "code",
   "execution_count": 33,
   "id": "ffee16a1",
   "metadata": {
    "ExecuteTime": {
     "end_time": "2022-05-05T00:10:16.253925Z",
     "start_time": "2022-05-05T00:10:15.933131Z"
    }
   },
   "outputs": [
    {
     "data": {
      "text/plain": [
       "<AxesSubplot:xlabel='region_code', ylabel='id'>"
      ]
     },
     "execution_count": 33,
     "metadata": {},
     "output_type": "execute_result"
    },
    {
     "data": {
      "image/png": "[encoded data removed]",
      "text/plain": [
       "<Figure size 720x432 with 1 Axes>"
      ]
     },
     "metadata": {},
     "output_type": "display_data"
    }
   ],
   "source": [
    "aux0 = df4[['id', 'region_code', 'response']].groupby(['region_code', 'response']).count().reset_index()\n",
    "plt.figure(figsize(10,6))\n",
    "sns.scatterplot(x = 'region_code', y = 'id', hue = 'response', data = aux0)"
   ]
  },
  {
   "cell_type": "markdown",
   "id": "86cb362f",
   "metadata": {},
   "source": [
    "### 4.1.5. Previously Insured"
   ]
  },
  {
   "cell_type": "code",
   "execution_count": 39,
   "id": "1b4846cc",
   "metadata": {
    "ExecuteTime": {
     "end_time": "2022-05-05T00:46:20.226820Z",
     "start_time": "2022-05-05T00:46:19.880875Z"
    }
   },
   "outputs": [
    {
     "data": {
      "text/plain": [
       "<AxesSubplot:xlabel='previously_insured', ylabel='id'>"
      ]
     },
     "execution_count": 39,
     "metadata": {},
     "output_type": "execute_result"
    },
    {
     "data": {
      "image/png": "[encoded data removed]",
      "text/plain": [
       "<Figure size 720x432 with 1 Axes>"
      ]
     },
     "metadata": {},
     "output_type": "display_data"
    }
   ],
   "source": [
    "aux0 = df4[['id', 'previously_insured', 'response']].groupby(['previously_insured', 'response']).sum().reset_index()\n",
    "plt.figure(figsize(10,6))\n",
    "sns.scatterplot(x = 'previously_insured', y = 'id', hue = 'response', data = aux0)"
   ]
  },
  {
   "cell_type": "code",
   "execution_count": 20,
   "id": "6a2ef85b",
   "metadata": {
    "ExecuteTime": {
     "end_time": "2022-05-11T23:41:51.292847Z",
     "start_time": "2022-05-11T23:41:51.237813Z"
    }
   },
   "outputs": [
    {
     "data": {
      "text/html": [
       "<div>\n",
       "<style scoped>\n",
       "    .dataframe tbody tr th:only-of-type {\n",
       "        vertical-align: middle;\n",
       "    }\n",
       "\n",
       "    .dataframe tbody tr th {\n",
       "        vertical-align: top;\n",
       "    }\n",
       "\n",
       "    .dataframe thead th {\n",
       "        text-align: right;\n",
       "    }\n",
       "</style>\n",
       "<table border=\"1\" class=\"dataframe\">\n",
       "  <thead>\n",
       "    <tr style=\"text-align: right;\">\n",
       "      <th>response</th>\n",
       "      <th>0</th>\n",
       "      <th>1</th>\n",
       "    </tr>\n",
       "    <tr>\n",
       "      <th>previously_insured</th>\n",
       "      <th></th>\n",
       "      <th></th>\n",
       "    </tr>\n",
       "  </thead>\n",
       "  <tbody>\n",
       "    <tr>\n",
       "      <th>0</th>\n",
       "      <td>0.774546</td>\n",
       "      <td>0.225454</td>\n",
       "    </tr>\n",
       "    <tr>\n",
       "      <th>1</th>\n",
       "      <td>0.999095</td>\n",
       "      <td>0.000905</td>\n",
       "    </tr>\n",
       "  </tbody>\n",
       "</table>\n",
       "</div>"
      ],
      "text/plain": [
       "response                   0         1\n",
       "previously_insured                    \n",
       "0                   0.774546  0.225454\n",
       "1                   0.999095  0.000905"
      ]
     },
     "execution_count": 20,
     "metadata": {},
     "output_type": "execute_result"
    }
   ],
   "source": [
    "pd.crosstab(df4['previously_insured'], df4['response']).apply(lambda x: x/x.sum(), axis = 1)"
   ]
  },
  {
   "cell_type": "markdown",
   "id": "86e6a6b4",
   "metadata": {},
   "source": [
    "### 4.1.6. Vehicle Age"
   ]
  },
  {
   "cell_type": "code",
   "execution_count": 21,
   "id": "f196f1ae",
   "metadata": {
    "ExecuteTime": {
     "end_time": "2022-05-11T23:44:36.893075Z",
     "start_time": "2022-05-11T23:44:36.818259Z"
    }
   },
   "outputs": [
    {
     "data": {
      "text/html": [
       "<div>\n",
       "<style scoped>\n",
       "    .dataframe tbody tr th:only-of-type {\n",
       "        vertical-align: middle;\n",
       "    }\n",
       "\n",
       "    .dataframe tbody tr th {\n",
       "        vertical-align: top;\n",
       "    }\n",
       "\n",
       "    .dataframe thead th {\n",
       "        text-align: right;\n",
       "    }\n",
       "</style>\n",
       "<table border=\"1\" class=\"dataframe\">\n",
       "  <thead>\n",
       "    <tr style=\"text-align: right;\">\n",
       "      <th>response</th>\n",
       "      <th>0</th>\n",
       "      <th>1</th>\n",
       "    </tr>\n",
       "    <tr>\n",
       "      <th>vehicle_age</th>\n",
       "      <th></th>\n",
       "      <th></th>\n",
       "    </tr>\n",
       "  </thead>\n",
       "  <tbody>\n",
       "    <tr>\n",
       "      <th>1-2_year</th>\n",
       "      <td>0.826245</td>\n",
       "      <td>0.173755</td>\n",
       "    </tr>\n",
       "    <tr>\n",
       "      <th>&lt;1_year</th>\n",
       "      <td>0.956295</td>\n",
       "      <td>0.043705</td>\n",
       "    </tr>\n",
       "    <tr>\n",
       "      <th>&gt;2_years</th>\n",
       "      <td>0.706254</td>\n",
       "      <td>0.293746</td>\n",
       "    </tr>\n",
       "  </tbody>\n",
       "</table>\n",
       "</div>"
      ],
      "text/plain": [
       "response            0         1\n",
       "vehicle_age                    \n",
       "1-2_year     0.826245  0.173755\n",
       "<1_year      0.956295  0.043705\n",
       ">2_years     0.706254  0.293746"
      ]
     },
     "execution_count": 21,
     "metadata": {},
     "output_type": "execute_result"
    }
   ],
   "source": [
    "pd.crosstab(df4['vehicle_age'], df4['response']).apply(lambda x: x/x.sum(), axis = 1)"
   ]
  },
  {
   "cell_type": "markdown",
   "id": "872c5300",
   "metadata": {},
   "source": [
    "### 4.1.7. Vehicle Damage"
   ]
  },
  {
   "cell_type": "code",
   "execution_count": 25,
   "id": "fbe13689",
   "metadata": {
    "ExecuteTime": {
     "end_time": "2022-05-11T23:52:19.543037Z",
     "start_time": "2022-05-11T23:52:19.325237Z"
    }
   },
   "outputs": [
    {
     "data": {
      "text/plain": [
       "<AxesSubplot:xlabel='response', ylabel='vehicle_damage'>"
      ]
     },
     "execution_count": 25,
     "metadata": {},
     "output_type": "execute_result"
    },
    {
     "data": {
      "image/png": "[encoded data removed]",
      "text/plain": [
       "<Figure size 576x432 with 1 Axes>"
      ]
     },
     "metadata": {},
     "output_type": "display_data"
    }
   ],
   "source": [
    "aux0 = df4[['vehicle_damage', 'response']].groupby('response').sum().reset_index()\n",
    "plt.figure(figsize(8,6))\n",
    "sns.barplot(x = 'response', y = 'vehicle_damage', data = aux0)"
   ]
  },
  {
   "cell_type": "markdown",
   "id": "823400b5",
   "metadata": {},
   "source": [
    "### 4.1.8. Policy Sales Channel "
   ]
  },
  {
   "cell_type": "code",
   "execution_count": 31,
   "id": "5293bf4e",
   "metadata": {
    "ExecuteTime": {
     "end_time": "2022-05-11T23:59:22.224989Z",
     "start_time": "2022-05-11T23:59:20.323909Z"
    }
   },
   "outputs": [
    {
     "data": {
      "text/plain": [
       "<AxesSubplot:xlabel='response', ylabel='policy_sales_channel'>"
      ]
     },
     "execution_count": 31,
     "metadata": {},
     "output_type": "execute_result"
    },
    {
     "data": {
      "image/png": "[encoded data removed]",
      "text/plain": [
       "<Figure size 1080x720 with 1 Axes>"
      ]
     },
     "metadata": {},
     "output_type": "display_data"
    }
   ],
   "source": [
    "aux0 = df4[['policy_sales_channel', 'response']].groupby('policy_sales_channel').sum().reset_index()\n",
    "plt.figure(figsize(15,10))\n",
    "sns.barplot(x = 'response', y = 'policy_sales_channel', data = aux0)"
   ]
  },
  {
   "cell_type": "code",
   "execution_count": 48,
   "id": "33fd5061",
   "metadata": {
    "ExecuteTime": {
     "end_time": "2022-05-26T23:55:44.876621Z",
     "start_time": "2022-05-26T23:55:44.811249Z"
    }
   },
   "outputs": [
    {
     "data": {
      "text/html": [
       "<div>\n",
       "<style scoped>\n",
       "    .dataframe tbody tr th:only-of-type {\n",
       "        vertical-align: middle;\n",
       "    }\n",
       "\n",
       "    .dataframe tbody tr th {\n",
       "        vertical-align: top;\n",
       "    }\n",
       "\n",
       "    .dataframe thead th {\n",
       "        text-align: right;\n",
       "    }\n",
       "</style>\n",
       "<table border=\"1\" class=\"dataframe\">\n",
       "  <thead>\n",
       "    <tr style=\"text-align: right;\">\n",
       "      <th></th>\n",
       "      <th>policy_sales_channel</th>\n",
       "      <th>response</th>\n",
       "      <th>total_response</th>\n",
       "    </tr>\n",
       "  </thead>\n",
       "  <tbody>\n",
       "    <tr>\n",
       "      <th>0</th>\n",
       "      <td>1.0</td>\n",
       "      <td>35</td>\n",
       "      <td>1074</td>\n",
       "    </tr>\n",
       "    <tr>\n",
       "      <th>1</th>\n",
       "      <td>2.0</td>\n",
       "      <td>1</td>\n",
       "      <td>4</td>\n",
       "    </tr>\n",
       "    <tr>\n",
       "      <th>2</th>\n",
       "      <td>3.0</td>\n",
       "      <td>159</td>\n",
       "      <td>523</td>\n",
       "    </tr>\n",
       "    <tr>\n",
       "      <th>3</th>\n",
       "      <td>4.0</td>\n",
       "      <td>102</td>\n",
       "      <td>509</td>\n",
       "    </tr>\n",
       "    <tr>\n",
       "      <th>4</th>\n",
       "      <td>6.0</td>\n",
       "      <td>0</td>\n",
       "      <td>3</td>\n",
       "    </tr>\n",
       "  </tbody>\n",
       "</table>\n",
       "</div>"
      ],
      "text/plain": [
       "   policy_sales_channel  response  total_response\n",
       "0                   1.0        35            1074\n",
       "1                   2.0         1               4\n",
       "2                   3.0       159             523\n",
       "3                   4.0       102             509\n",
       "4                   6.0         0               3"
      ]
     },
     "execution_count": 48,
     "metadata": {},
     "output_type": "execute_result"
    }
   ],
   "source": [
    "aux0 = df4[['policy_sales_channel', 'response']].groupby('policy_sales_channel').sum().reset_index()\n",
    "aux1 = df4[['policy_sales_channel', 'id']].groupby('policy_sales_channel').size().reset_index().rename(columns = {0: 'total_response'})\n",
    "aux = pd.merge(aux0, aux1, how = 'inner', on = 'policy_sales_channel')\n",
    "\n",
    "aux.head()"
   ]
  },
  {
   "cell_type": "markdown",
   "id": "66e1ab7f",
   "metadata": {},
   "source": [
    "### 4.1.9. Vintage"
   ]
  },
  {
   "cell_type": "code",
   "execution_count": 37,
   "id": "19324e9f",
   "metadata": {
    "ExecuteTime": {
     "end_time": "2022-05-12T00:19:39.806182Z",
     "start_time": "2022-05-12T00:19:39.269751Z"
    }
   },
   "outputs": [
    {
     "data": {
      "text/plain": [
       "<AxesSubplot:xlabel='vintage', ylabel='Count'>"
      ]
     },
     "execution_count": 37,
     "metadata": {},
     "output_type": "execute_result"
    },
    {
     "data": {
      "image/png": "[encoded data removed]",
      "text/plain": [
       "<Figure size 720x432 with 1 Axes>"
      ]
     },
     "metadata": {},
     "output_type": "display_data"
    }
   ],
   "source": [
    "aux0 = df4.loc[df4['response'] == 0, \"vintage\" ]\n",
    "plt.figure(figsize(10,6))\n",
    "sns.histplot(aux0)"
   ]
  },
  {
   "cell_type": "code",
   "execution_count": 38,
   "id": "a47d4fe8",
   "metadata": {
    "ExecuteTime": {
     "end_time": "2022-05-12T00:20:27.563208Z",
     "start_time": "2022-05-12T00:20:27.177806Z"
    }
   },
   "outputs": [
    {
     "data": {
      "text/plain": [
       "<AxesSubplot:xlabel='vintage', ylabel='Count'>"
      ]
     },
     "execution_count": 38,
     "metadata": {},
     "output_type": "execute_result"
    },
    {
     "data": {
      "image/png": "[encoded data removed]",
      "text/plain": [
       "<Figure size 720x432 with 1 Axes>"
      ]
     },
     "metadata": {},
     "output_type": "display_data"
    }
   ],
   "source": [
    "aux0 = df4.loc[df4['response'] == 1, 'vintage']\n",
    "plt.figure(figsize(10,6))\n",
    "sns.histplot(aux0)"
   ]
  },
  {
   "cell_type": "code",
   "execution_count": 20,
   "id": "f9024902",
   "metadata": {
    "ExecuteTime": {
     "end_time": "2022-05-17T23:13:34.048297Z",
     "start_time": "2022-05-17T23:13:27.439405Z"
    }
   },
   "outputs": [
    {
     "data": {
      "text/plain": [
       "<AxesSubplot:xlabel='vintage'>"
      ]
     },
     "execution_count": 20,
     "metadata": {},
     "output_type": "execute_result"
    },
    {
     "data": {
      "image/png": "[encoded data removed]",
      "text/plain": [
       "<Figure size 1800x864 with 1 Axes>"
      ]
     },
     "metadata": {},
     "output_type": "display_data"
    }
   ],
   "source": [
    "aux0 = pd.pivot_table(index = 'vintage', columns = 'response',values = 'id', data = df4).reset_index()\n",
    "aux0.columns = ['vintage', 'no_response', 'yes_response']\n",
    "\n",
    "#plt.figure(figsize(10,6))\n",
    "aux0.plot(x = 'vintage', kind = 'bar', stacked = True)"
   ]
  },
  {
   "cell_type": "markdown",
   "id": "6c88c1b6",
   "metadata": {},
   "source": [
    "# 5.0. Data Preparation"
   ]
  },
  {
   "cell_type": "code",
   "execution_count": 18,
   "id": "206a0a1c",
   "metadata": {
    "ExecuteTime": {
     "end_time": "2022-05-30T23:12:22.456113Z",
     "start_time": "2022-05-30T23:12:22.310953Z"
    }
   },
   "outputs": [],
   "source": [
    "X = df4.drop('response', axis = 1)\n",
    "y = df4['response'].copy()\n",
    "\n",
    "x_train, x_validation, y_train, y_validation = ms.train_test_split(X, y, test_size = 0.3)\n",
    "\n",
    "df5 = pd.concat([x_train, y_train], axis = 1)"
   ]
  },
  {
   "cell_type": "markdown",
   "id": "ad7779a6",
   "metadata": {},
   "source": [
    "## 5.1. Standardization"
   ]
  },
  {
   "cell_type": "code",
   "execution_count": 19,
   "id": "8ba8e30a",
   "metadata": {
    "ExecuteTime": {
     "end_time": "2022-05-30T23:12:24.033733Z",
     "start_time": "2022-05-30T23:12:24.009385Z"
    }
   },
   "outputs": [],
   "source": [
    "ss = pp.StandardScaler()\n",
    "\n",
    "# annual premium - StandardScaler\n",
    "df5['annual_premium'] = ss.fit_transform(df5[['annual_premium']].values)\n",
    "pickle.dump(ss, open('../src/features/annual_premium.pkl', 'wb'))"
   ]
  },
  {
   "cell_type": "markdown",
   "id": "0276b8cc",
   "metadata": {},
   "source": [
    "## 5.2. Rescaling"
   ]
  },
  {
   "cell_type": "code",
   "execution_count": 20,
   "id": "8d1d05f0",
   "metadata": {
    "ExecuteTime": {
     "end_time": "2022-05-30T23:12:37.732178Z",
     "start_time": "2022-05-30T23:12:37.709093Z"
    }
   },
   "outputs": [],
   "source": [
    "mms_age = pp.MinMaxScaler()\n",
    "mms_vintage = pp.MinMaxScaler()\n",
    "\n",
    "# Age - MinMaxScaler\n",
    "df5['age'] = mms_age.fit_transform(df5[['age']].values)\n",
    "pickle.dump(mms_age,open('../src/features/age_scaler.pkl', 'wb'))\n",
    "\n",
    "# Vintage - MinMaxScaler\n",
    "df5['vintage'] = mms_vintage.fit_transform(df5[['vintage']].values)\n",
    "pickle.dump(mms_vintage, open('../src/features/vintage_scaler.pkl', 'wb'))"
   ]
  },
  {
   "cell_type": "markdown",
   "id": "84fe7c06",
   "metadata": {},
   "source": [
    "## 5.3. Transformation"
   ]
  },
  {
   "cell_type": "markdown",
   "id": "103651ff",
   "metadata": {},
   "source": [
    "### 5.3.1. Encoding"
   ]
  },
  {
   "cell_type": "code",
   "execution_count": 21,
   "id": "1ddeaeba",
   "metadata": {
    "ExecuteTime": {
     "end_time": "2022-05-30T23:12:39.820523Z",
     "start_time": "2022-05-30T23:12:39.670880Z"
    }
   },
   "outputs": [],
   "source": [
    "# gender - One Hot Encoding / Target Encoding\n",
    "target_encode_gender = df5.groupby('gender')['response'].mean()\n",
    "df5.loc[:, 'gender'] = df5['gender'].map(target_encode_gender)\n",
    "pickle.dump(target_encode_gender, open('../src/features/target_encode_gender.pkl', 'wb'))\n",
    "\n",
    "#region_code - Target Encoding / Frecency Encoding\n",
    "target_region_code = df5.groupby('region_code')['response'].mean()\n",
    "df5.loc[:, 'region_code'] = df5['region_code'].map(target_region_code)\n",
    "pickle.dump(target_region_code, open('../src/features/target_region_code.pkl', 'wb'))\n",
    "\n",
    "# vehicle_age - One  Hot Encoding / Frequency Encoding\n",
    "df5 = pd.get_dummies(df5, prefix = 'vehicle_age', columns = ['vehicle_age'])\n",
    "\n",
    "# policy_sales_channel - Target Encoding / Frequency Encoding\n",
    "fe_policy_sales_channel = df5.groupby('policy_sales_channel').size() / len(df5)\n",
    "df5.loc[:, 'policy_sales_channel'] = df5['policy_sales_channel'].map(fe_policy_sales_channel)\n",
    "pickle.dump(fe_policy_sales_channel, open('../src/features/fe_policy_sales_channel.pkl', 'wb'))"
   ]
  },
  {
   "cell_type": "markdown",
   "id": "f70bbdef",
   "metadata": {},
   "source": [
    "## 5.4. Validation Preparation"
   ]
  },
  {
   "cell_type": "code",
   "execution_count": 22,
   "id": "60393263",
   "metadata": {
    "ExecuteTime": {
     "end_time": "2022-05-30T23:12:41.456094Z",
     "start_time": "2022-05-30T23:12:41.159582Z"
    }
   },
   "outputs": [],
   "source": [
    "# gender\n",
    "x_validation.loc[:, 'gender'] = x_validation.loc[: , 'gender'].map(target_encode_gender)\n",
    "\n",
    "# age\n",
    "x_validation.loc[:, 'age'] = mms_age.transform(x_validation[['age']].values)\n",
    "\n",
    "# region_code\n",
    "x_validation.loc[:, 'region_code'] = x_validation.loc[:, 'region_code'].map(target_region_code)\n",
    "\n",
    "# vehicle_age\n",
    "x_validation = pd.get_dummies(x_validation, prefix = 'vehicle_age', columns = ['vehicle_age'])\n",
    "\n",
    "# annual_premium\n",
    "x_validation.loc[:, 'annual_premium'] = ss.transform(x_validation[['annual_premium']].values)\n",
    "\n",
    "# policy_sales_channel\n",
    "x_validation.loc[:, 'policy_sales_channel'] = x_validation.loc[:, 'policy_sales_channel'].map(fe_policy_sales_channel)\n",
    "\n",
    "# vintage\n",
    "x_validation.loc[:, 'vintage'] = mms_vintage.transform(x_validation[['vintage']].values)\n",
    "\n",
    "# fillna\n",
    "x_validation = x_validation.fillna(0)"
   ]
  },
  {
   "cell_type": "markdown",
   "id": "0603a52a",
   "metadata": {},
   "source": [
    "# 6.0. Feature Selection"
   ]
  },
  {
   "cell_type": "code",
   "execution_count": 25,
   "id": "a941b86e",
   "metadata": {
    "ExecuteTime": {
     "end_time": "2022-05-30T23:25:33.487123Z",
     "start_time": "2022-05-30T23:13:43.636669Z"
    }
   },
   "outputs": [
    {
     "name": "stdout",
     "output_type": "stream",
     "text": [
      "Iteration: \t1 / 100\n",
      "Confirmed: \t0\n",
      "Tentative: \t12\n",
      "Rejected: \t0\n",
      "Iteration: \t2 / 100\n",
      "Confirmed: \t0\n",
      "Tentative: \t12\n",
      "Rejected: \t0\n",
      "Iteration: \t3 / 100\n",
      "Confirmed: \t0\n",
      "Tentative: \t12\n",
      "Rejected: \t0\n",
      "Iteration: \t4 / 100\n",
      "Confirmed: \t0\n",
      "Tentative: \t12\n",
      "Rejected: \t0\n",
      "Iteration: \t5 / 100\n",
      "Confirmed: \t0\n",
      "Tentative: \t12\n",
      "Rejected: \t0\n",
      "Iteration: \t6 / 100\n",
      "Confirmed: \t0\n",
      "Tentative: \t12\n",
      "Rejected: \t0\n",
      "Iteration: \t7 / 100\n",
      "Confirmed: \t0\n",
      "Tentative: \t12\n",
      "Rejected: \t0\n",
      "Iteration: \t8 / 100\n",
      "Confirmed: \t1\n",
      "Tentative: \t1\n",
      "Rejected: \t10\n",
      "Iteration: \t9 / 100\n",
      "Confirmed: \t1\n",
      "Tentative: \t1\n",
      "Rejected: \t10\n",
      "Iteration: \t10 / 100\n",
      "Confirmed: \t1\n",
      "Tentative: \t1\n",
      "Rejected: \t10\n",
      "Iteration: \t11 / 100\n",
      "Confirmed: \t1\n",
      "Tentative: \t1\n",
      "Rejected: \t10\n",
      "Iteration: \t12 / 100\n",
      "Confirmed: \t1\n",
      "Tentative: \t1\n",
      "Rejected: \t10\n",
      "Iteration: \t13 / 100\n",
      "Confirmed: \t1\n",
      "Tentative: \t1\n",
      "Rejected: \t10\n",
      "Iteration: \t14 / 100\n",
      "Confirmed: \t1\n",
      "Tentative: \t1\n",
      "Rejected: \t10\n",
      "Iteration: \t15 / 100\n",
      "Confirmed: \t1\n",
      "Tentative: \t1\n",
      "Rejected: \t10\n",
      "Iteration: \t16 / 100\n",
      "Confirmed: \t1\n",
      "Tentative: \t1\n",
      "Rejected: \t10\n",
      "Iteration: \t17 / 100\n",
      "Confirmed: \t1\n",
      "Tentative: \t1\n",
      "Rejected: \t10\n",
      "Iteration: \t18 / 100\n",
      "Confirmed: \t1\n",
      "Tentative: \t1\n",
      "Rejected: \t10\n",
      "Iteration: \t19 / 100\n",
      "Confirmed: \t1\n",
      "Tentative: \t1\n",
      "Rejected: \t10\n",
      "Iteration: \t20 / 100\n",
      "Confirmed: \t1\n",
      "Tentative: \t1\n",
      "Rejected: \t10\n",
      "Iteration: \t21 / 100\n",
      "Confirmed: \t1\n",
      "Tentative: \t1\n",
      "Rejected: \t10\n",
      "Iteration: \t22 / 100\n",
      "Confirmed: \t1\n",
      "Tentative: \t1\n",
      "Rejected: \t10\n",
      "Iteration: \t23 / 100\n",
      "Confirmed: \t1\n",
      "Tentative: \t1\n",
      "Rejected: \t10\n",
      "Iteration: \t24 / 100\n",
      "Confirmed: \t1\n",
      "Tentative: \t1\n",
      "Rejected: \t10\n",
      "Iteration: \t25 / 100\n",
      "Confirmed: \t1\n",
      "Tentative: \t1\n",
      "Rejected: \t10\n",
      "Iteration: \t26 / 100\n",
      "Confirmed: \t1\n",
      "Tentative: \t1\n",
      "Rejected: \t10\n",
      "Iteration: \t27 / 100\n",
      "Confirmed: \t1\n",
      "Tentative: \t1\n",
      "Rejected: \t10\n",
      "Iteration: \t28 / 100\n",
      "Confirmed: \t1\n",
      "Tentative: \t1\n",
      "Rejected: \t10\n",
      "Iteration: \t29 / 100\n",
      "Confirmed: \t1\n",
      "Tentative: \t1\n",
      "Rejected: \t10\n",
      "Iteration: \t30 / 100\n",
      "Confirmed: \t1\n",
      "Tentative: \t1\n",
      "Rejected: \t10\n",
      "Iteration: \t31 / 100\n",
      "Confirmed: \t1\n",
      "Tentative: \t1\n",
      "Rejected: \t10\n",
      "Iteration: \t32 / 100\n",
      "Confirmed: \t1\n",
      "Tentative: \t1\n",
      "Rejected: \t10\n",
      "Iteration: \t33 / 100\n",
      "Confirmed: \t1\n",
      "Tentative: \t1\n",
      "Rejected: \t10\n",
      "Iteration: \t34 / 100\n",
      "Confirmed: \t1\n",
      "Tentative: \t1\n",
      "Rejected: \t10\n",
      "Iteration: \t35 / 100\n",
      "Confirmed: \t1\n",
      "Tentative: \t1\n",
      "Rejected: \t10\n",
      "Iteration: \t36 / 100\n",
      "Confirmed: \t1\n",
      "Tentative: \t1\n",
      "Rejected: \t10\n",
      "Iteration: \t37 / 100\n",
      "Confirmed: \t1\n",
      "Tentative: \t1\n",
      "Rejected: \t10\n",
      "Iteration: \t38 / 100\n",
      "Confirmed: \t1\n",
      "Tentative: \t1\n",
      "Rejected: \t10\n",
      "Iteration: \t39 / 100\n",
      "Confirmed: \t1\n",
      "Tentative: \t1\n",
      "Rejected: \t10\n",
      "Iteration: \t40 / 100\n",
      "Confirmed: \t1\n",
      "Tentative: \t1\n",
      "Rejected: \t10\n",
      "Iteration: \t41 / 100\n",
      "Confirmed: \t1\n",
      "Tentative: \t1\n",
      "Rejected: \t10\n",
      "Iteration: \t42 / 100\n",
      "Confirmed: \t1\n",
      "Tentative: \t1\n",
      "Rejected: \t10\n",
      "Iteration: \t43 / 100\n",
      "Confirmed: \t1\n",
      "Tentative: \t1\n",
      "Rejected: \t10\n",
      "Iteration: \t44 / 100\n",
      "Confirmed: \t1\n",
      "Tentative: \t1\n",
      "Rejected: \t10\n",
      "Iteration: \t45 / 100\n",
      "Confirmed: \t1\n",
      "Tentative: \t1\n",
      "Rejected: \t10\n",
      "Iteration: \t46 / 100\n",
      "Confirmed: \t1\n",
      "Tentative: \t1\n",
      "Rejected: \t10\n",
      "Iteration: \t47 / 100\n",
      "Confirmed: \t1\n",
      "Tentative: \t1\n",
      "Rejected: \t10\n",
      "Iteration: \t48 / 100\n",
      "Confirmed: \t1\n",
      "Tentative: \t1\n",
      "Rejected: \t10\n",
      "Iteration: \t49 / 100\n",
      "Confirmed: \t1\n",
      "Tentative: \t1\n",
      "Rejected: \t10\n",
      "Iteration: \t50 / 100\n",
      "Confirmed: \t1\n",
      "Tentative: \t1\n",
      "Rejected: \t10\n",
      "Iteration: \t51 / 100\n",
      "Confirmed: \t1\n",
      "Tentative: \t1\n",
      "Rejected: \t10\n",
      "Iteration: \t52 / 100\n",
      "Confirmed: \t1\n",
      "Tentative: \t1\n",
      "Rejected: \t10\n",
      "Iteration: \t53 / 100\n",
      "Confirmed: \t1\n",
      "Tentative: \t1\n",
      "Rejected: \t10\n",
      "Iteration: \t54 / 100\n",
      "Confirmed: \t1\n",
      "Tentative: \t1\n",
      "Rejected: \t10\n",
      "Iteration: \t55 / 100\n",
      "Confirmed: \t1\n",
      "Tentative: \t1\n",
      "Rejected: \t10\n",
      "Iteration: \t56 / 100\n",
      "Confirmed: \t1\n",
      "Tentative: \t1\n",
      "Rejected: \t10\n",
      "Iteration: \t57 / 100\n",
      "Confirmed: \t1\n",
      "Tentative: \t1\n",
      "Rejected: \t10\n",
      "Iteration: \t58 / 100\n",
      "Confirmed: \t1\n",
      "Tentative: \t1\n",
      "Rejected: \t10\n",
      "Iteration: \t59 / 100\n",
      "Confirmed: \t1\n",
      "Tentative: \t1\n",
      "Rejected: \t10\n",
      "Iteration: \t60 / 100\n",
      "Confirmed: \t1\n",
      "Tentative: \t1\n",
      "Rejected: \t10\n",
      "Iteration: \t61 / 100\n",
      "Confirmed: \t1\n",
      "Tentative: \t1\n",
      "Rejected: \t10\n",
      "Iteration: \t62 / 100\n",
      "Confirmed: \t1\n",
      "Tentative: \t1\n",
      "Rejected: \t10\n",
      "Iteration: \t63 / 100\n",
      "Confirmed: \t1\n",
      "Tentative: \t1\n",
      "Rejected: \t10\n",
      "Iteration: \t64 / 100\n",
      "Confirmed: \t1\n",
      "Tentative: \t1\n",
      "Rejected: \t10\n",
      "Iteration: \t65 / 100\n",
      "Confirmed: \t1\n",
      "Tentative: \t1\n",
      "Rejected: \t10\n",
      "Iteration: \t66 / 100\n",
      "Confirmed: \t1\n",
      "Tentative: \t1\n",
      "Rejected: \t10\n",
      "Iteration: \t67 / 100\n",
      "Confirmed: \t1\n",
      "Tentative: \t1\n",
      "Rejected: \t10\n",
      "Iteration: \t68 / 100\n",
      "Confirmed: \t1\n",
      "Tentative: \t1\n",
      "Rejected: \t10\n",
      "Iteration: \t69 / 100\n",
      "Confirmed: \t1\n",
      "Tentative: \t1\n",
      "Rejected: \t10\n",
      "Iteration: \t70 / 100\n",
      "Confirmed: \t1\n",
      "Tentative: \t1\n",
      "Rejected: \t10\n",
      "Iteration: \t71 / 100\n",
      "Confirmed: \t1\n",
      "Tentative: \t1\n",
      "Rejected: \t10\n",
      "Iteration: \t72 / 100\n",
      "Confirmed: \t1\n",
      "Tentative: \t1\n",
      "Rejected: \t10\n",
      "Iteration: \t73 / 100\n",
      "Confirmed: \t1\n",
      "Tentative: \t1\n",
      "Rejected: \t10\n",
      "Iteration: \t74 / 100\n",
      "Confirmed: \t1\n",
      "Tentative: \t1\n",
      "Rejected: \t10\n",
      "Iteration: \t75 / 100\n",
      "Confirmed: \t1\n",
      "Tentative: \t1\n",
      "Rejected: \t10\n",
      "Iteration: \t76 / 100\n",
      "Confirmed: \t1\n",
      "Tentative: \t1\n",
      "Rejected: \t10\n",
      "Iteration: \t77 / 100\n",
      "Confirmed: \t1\n",
      "Tentative: \t1\n",
      "Rejected: \t10\n",
      "Iteration: \t78 / 100\n",
      "Confirmed: \t1\n",
      "Tentative: \t1\n",
      "Rejected: \t10\n",
      "Iteration: \t79 / 100\n",
      "Confirmed: \t1\n",
      "Tentative: \t1\n",
      "Rejected: \t10\n",
      "Iteration: \t80 / 100\n",
      "Confirmed: \t1\n",
      "Tentative: \t0\n",
      "Rejected: \t11\n",
      "\n",
      "\n",
      "BorutaPy finished running.\n",
      "\n",
      "Iteration: \t81 / 100\n",
      "Confirmed: \t1\n",
      "Tentative: \t0\n",
      "Rejected: \t11\n"
     ]
    }
   ],
   "source": [
    "x_train_n = df5.drop(['id', 'response'], axis = 1).values\n",
    "y_train_n = y_train.values.ravel()\n",
    "\n",
    "# define model\n",
    "et = en.ExtraTreesClassifier(n_jobs = 1)\n",
    "\n",
    "#define boruta\n",
    "boruta = bt.BorutaPy(et, n_estimators = 'auto', verbose = 2, random_state = 42).fit(x_train_n, y_train_n)"
   ]
  },
  {
   "cell_type": "code",
   "execution_count": 26,
   "id": "fed7e906",
   "metadata": {
    "ExecuteTime": {
     "end_time": "2022-05-30T23:28:05.955961Z",
     "start_time": "2022-05-30T23:28:05.950757Z"
    },
    "scrolled": true
   },
   "outputs": [
    {
     "data": {
      "text/plain": [
       "[False,\n",
       " True,\n",
       " False,\n",
       " False,\n",
       " False,\n",
       " False,\n",
       " False,\n",
       " False,\n",
       " False,\n",
       " False,\n",
       " False,\n",
       " False]"
      ]
     },
     "execution_count": 26,
     "metadata": {},
     "output_type": "execute_result"
    }
   ],
   "source": [
    "boruta.support_.tolist()"
   ]
  },
  {
   "cell_type": "code",
   "execution_count": 27,
   "id": "20335cc0",
   "metadata": {
    "ExecuteTime": {
     "end_time": "2022-05-30T23:28:28.838232Z",
     "start_time": "2022-05-30T23:28:28.826831Z"
    }
   },
   "outputs": [],
   "source": [
    "#cols_selected = boruta.support_.tolist()\n",
    "cols_selected = [False,\n",
    " True,\n",
    " False,\n",
    " False,\n",
    " False,\n",
    " False,\n",
    " False,\n",
    " False,\n",
    " False,\n",
    " False,\n",
    " False,\n",
    " False]\n",
    "\n",
    "# best features\n",
    "x_train_fs = df5.drop(['id', 'response'], axis = 1)\n",
    "cols_selected_boruta = x_train_fs.iloc[:, cols_selected].columns.to_list()\n",
    "\n",
    "# not selected boruta\n",
    "cols_not_selected_boruta = list(np.setdiff1d(x_train_fs.columns, cols_selected_boruta))"
   ]
  },
  {
   "cell_type": "markdown",
   "id": "952e94fb",
   "metadata": {},
   "source": [
    "## 6.2. Feature Importance"
   ]
  },
  {
   "cell_type": "code",
   "execution_count": 28,
   "id": "28503e04",
   "metadata": {
    "ExecuteTime": {
     "end_time": "2022-05-30T23:28:41.236800Z",
     "start_time": "2022-05-30T23:28:38.241175Z"
    }
   },
   "outputs": [
    {
     "data": {
      "text/plain": [
       "ExtraTreesClassifier(n_estimators=20, n_jobs=-1, random_state=0)"
      ]
     },
     "execution_count": 28,
     "metadata": {},
     "output_type": "execute_result"
    }
   ],
   "source": [
    "# model definition\n",
    "forest = en.ExtraTreesClassifier(n_estimators = 20, random_state = 0, n_jobs = -1)\n",
    "\n",
    "# data preparation\n",
    "x_train_n = df5.drop(['id', 'response'], axis = 1)\n",
    "y_train_n = y_train.values\n",
    "forest.fit(x_train_n, y_train_n)"
   ]
  },
  {
   "cell_type": "code",
   "execution_count": 38,
   "id": "6d21f9d6",
   "metadata": {
    "ExecuteTime": {
     "end_time": "2022-05-18T01:04:02.966778Z",
     "start_time": "2022-05-18T01:04:02.544351Z"
    }
   },
   "outputs": [
    {
     "name": "stdout",
     "output_type": "stream",
     "text": [
      "Feature ranking:\n",
      "                feature  importance\n",
      "0               vintage    0.274801\n",
      "0        annual_premium    0.243225\n",
      "0                   age    0.154372\n",
      "0           region_code    0.110271\n",
      "0        vehicle_damage    0.078724\n",
      "0  policy_sales_channel    0.061975\n",
      "0    previously_insured    0.047700\n",
      "0   vehicle_age_<1_year    0.013364\n",
      "0  vehicle_age_1-2_year    0.006443\n",
      "0                gender    0.006099\n",
      "0  vehicle_age_>2_years    0.002531\n",
      "0       driving_license    0.000494\n"
     ]
    },
    {
     "data": {
      "image/png": "[encoded data removed]",
      "text/plain": [
       "<Figure size 1800x864 with 1 Axes>"
      ]
     },
     "metadata": {},
     "output_type": "display_data"
    }
   ],
   "source": [
    "importances = forest.feature_importances_\n",
    "std = np.std([tree.feature_importances_ for tree in forest.estimators_], axis = 0)\n",
    "indices = np.argsort(importances)[::-1]\n",
    "\n",
    "# Print the feature ranking\n",
    "print(\"Feature ranking:\")\n",
    "df = pd.DataFrame()\n",
    "for i, j in zip(x_train_n, forest.feature_importances_):\n",
    "    aux = pd.DataFrame({'feature': i, 'importance': j}, index = [0])\n",
    "    df = pd.concat([df, aux], axis = 0)\n",
    "    \n",
    "print(df.sort_values('importance', ascending = False))\n",
    "\n",
    "# Plot the impurity - based feature importances of the forest\n",
    "plt.figure()\n",
    "plt.title(\"Features Importances\")\n",
    "plt.bar(range(x_train_n.shape[1]), importances[indices], color = 'b', yerr = std[indices], align = 'center')\n",
    "plt.xticks(range(x_train_n.shape[1]), indices)\n",
    "plt.xlim([-1, x_train_n.shape[1]])\n",
    "plt.show()"
   ]
  },
  {
   "cell_type": "markdown",
   "id": "9851adf9",
   "metadata": {},
   "source": [
    "# 7.0. Machine Learning Modelling"
   ]
  },
  {
   "cell_type": "code",
   "execution_count": 29,
   "id": "7fb99bdc",
   "metadata": {
    "ExecuteTime": {
     "end_time": "2022-05-30T23:28:56.394853Z",
     "start_time": "2022-05-30T23:28:56.391915Z"
    }
   },
   "outputs": [],
   "source": [
    "cols_selected = ['vintage', 'annual_premium', 'age', 'region_code', 'vehicle_damage', 'previously_insured', 'policy_sales_channel']"
   ]
  },
  {
   "cell_type": "code",
   "execution_count": 30,
   "id": "d8057381",
   "metadata": {
    "ExecuteTime": {
     "end_time": "2022-05-30T23:28:57.663300Z",
     "start_time": "2022-05-30T23:28:57.653564Z"
    }
   },
   "outputs": [],
   "source": [
    "x_train = df5[cols_selected]\n",
    "\n",
    "x_val = x_validation[cols_selected]\n",
    "y_val = y_validation"
   ]
  },
  {
   "cell_type": "code",
   "execution_count": 58,
   "id": "1b0024e0",
   "metadata": {
    "ExecuteTime": {
     "end_time": "2022-05-31T00:41:08.886929Z",
     "start_time": "2022-05-31T00:41:04.787868Z"
    }
   },
   "outputs": [],
   "source": [
    "# Save datasets to  ML\n",
    "\n",
    "# Save datasets training \n",
    "x_train.to_csv('../data/processed/x_train.csv')\n",
    "y_train.to_csv('../data/processed/y_train.csv')\n",
    "\n",
    "# Save datasets validation\n",
    "x_val.to_csv('../data/processed/x_val.csv')\n",
    "y_val.to_csv('../data/processed/y_val.csv')"
   ]
  },
  {
   "cell_type": "markdown",
   "id": "cc08fbef",
   "metadata": {},
   "source": [
    "## 7.1. KNN Classifier"
   ]
  },
  {
   "cell_type": "code",
   "execution_count": 31,
   "id": "14191689",
   "metadata": {
    "ExecuteTime": {
     "end_time": "2022-05-30T23:29:21.166674Z",
     "start_time": "2022-05-30T23:28:59.807673Z"
    }
   },
   "outputs": [],
   "source": [
    "# model definition\n",
    "knn_model = nh.KNeighborsClassifier(n_neighbors=7)\n",
    "\n",
    "# model training\n",
    "knn_model.fit(x_train, y_train)\n",
    "\n",
    "# model prediction\n",
    "yhat_knn = knn_model.predict_proba(x_val)"
   ]
  },
  {
   "cell_type": "code",
   "execution_count": 35,
   "id": "26d27360",
   "metadata": {
    "ExecuteTime": {
     "end_time": "2022-05-25T00:43:52.893240Z",
     "start_time": "2022-05-25T00:43:52.542366Z"
    }
   },
   "outputs": [
    {
     "data": {
      "text/plain": [
       "<AxesSubplot:title={'center':'Cumulative Gains Curve'}, xlabel='Percentage of sample', ylabel='Gain'>"
      ]
     },
     "execution_count": 35,
     "metadata": {},
     "output_type": "execute_result"
    },
    {
     "data": {
      "text/plain": [
       "<Figure size 720x432 with 0 Axes>"
      ]
     },
     "metadata": {},
     "output_type": "display_data"
    },
    {
     "data": {
      "image/png": "[encoded data removed]",
      "text/plain": [
       "<Figure size 720x432 with 1 Axes>"
      ]
     },
     "metadata": {},
     "output_type": "display_data"
    }
   ],
   "source": [
    "# Acumulative gain\n",
    "plt.figure(figsize(10,6))\n",
    "skplt.metrics.plot_cumulative_gain(y_val, yhat_knn)"
   ]
  },
  {
   "cell_type": "code",
   "execution_count": 36,
   "id": "1e447b90",
   "metadata": {
    "ExecuteTime": {
     "end_time": "2022-05-25T00:45:09.303698Z",
     "start_time": "2022-05-25T00:45:08.959637Z"
    }
   },
   "outputs": [
    {
     "data": {
      "text/plain": [
       "<AxesSubplot:title={'center':'Lift Curve'}, xlabel='Percentage of sample', ylabel='Lift'>"
      ]
     },
     "execution_count": 36,
     "metadata": {},
     "output_type": "execute_result"
    },
    {
     "data": {
      "image/png": "[encoded data removed]",
      "text/plain": [
       "<Figure size 720x432 with 1 Axes>"
      ]
     },
     "metadata": {},
     "output_type": "display_data"
    }
   ],
   "source": [
    "# Acumulative lift\n",
    "skplt.metrics.plot_lift_curve(y_val, yhat_knn)"
   ]
  },
  {
   "cell_type": "markdown",
   "id": "ebeb4b9c",
   "metadata": {},
   "source": [
    "## 7.2. Logistic Regression"
   ]
  },
  {
   "cell_type": "code",
   "execution_count": 32,
   "id": "c14723ac",
   "metadata": {
    "ExecuteTime": {
     "end_time": "2022-05-30T23:29:35.335118Z",
     "start_time": "2022-05-30T23:29:33.614983Z"
    }
   },
   "outputs": [],
   "source": [
    "# model definition\n",
    "lr_model = lm.LogisticRegression(random_state = 42)\n",
    "\n",
    "# model training\n",
    "lr_model.fit(x_train, y_train)\n",
    "\n",
    "# model prediction\n",
    "yhat_lr = lr_model.predict_proba(x_val)"
   ]
  },
  {
   "cell_type": "code",
   "execution_count": 41,
   "id": "47b1f59d",
   "metadata": {
    "ExecuteTime": {
     "end_time": "2022-05-25T00:59:29.022032Z",
     "start_time": "2022-05-25T00:59:28.644385Z"
    }
   },
   "outputs": [
    {
     "data": {
      "text/plain": [
       "<AxesSubplot:title={'center':'Cumulative Gains Curve'}, xlabel='Percentage of sample', ylabel='Gain'>"
      ]
     },
     "execution_count": 41,
     "metadata": {},
     "output_type": "execute_result"
    },
    {
     "data": {
      "image/png": "[encoded data removed]",
      "text/plain": [
       "<Figure size 720x432 with 1 Axes>"
      ]
     },
     "metadata": {},
     "output_type": "display_data"
    }
   ],
   "source": [
    "# Acumulative gain\n",
    "skplt.metrics.plot_cumulative_gain(y_val, yhat_lr)"
   ]
  },
  {
   "cell_type": "code",
   "execution_count": 42,
   "id": "ed51ec3b",
   "metadata": {
    "ExecuteTime": {
     "end_time": "2022-05-25T00:59:35.989743Z",
     "start_time": "2022-05-25T00:59:35.639848Z"
    }
   },
   "outputs": [
    {
     "data": {
      "text/plain": [
       "<AxesSubplot:title={'center':'Lift Curve'}, xlabel='Percentage of sample', ylabel='Lift'>"
      ]
     },
     "execution_count": 42,
     "metadata": {},
     "output_type": "execute_result"
    },
    {
     "data": {
      "image/png": "[encoded data removed]",
      "text/plain": [
       "<Figure size 720x432 with 1 Axes>"
      ]
     },
     "metadata": {},
     "output_type": "display_data"
    }
   ],
   "source": [
    "# Lift curve\n",
    "skplt.metrics.plot_lift_curve(y_val, yhat_lr)"
   ]
  },
  {
   "cell_type": "markdown",
   "id": "05b096dd",
   "metadata": {},
   "source": [
    "## 7.3. ExtraTrees Classifier"
   ]
  },
  {
   "cell_type": "code",
   "execution_count": 33,
   "id": "70452a9f",
   "metadata": {
    "ExecuteTime": {
     "end_time": "2022-05-30T23:30:05.149898Z",
     "start_time": "2022-05-30T23:29:39.106166Z"
    }
   },
   "outputs": [],
   "source": [
    "# model definition\n",
    "et = en.ExtraTreesClassifier(n_estimators = 100, n_jobs = 1, random_state = 42)\n",
    "\n",
    "# model training\n",
    "et.fit(x_train, y_train)\n",
    "\n",
    "# model prediction\n",
    "yhat_et = et.predict_proba(x_val)"
   ]
  },
  {
   "cell_type": "code",
   "execution_count": 45,
   "id": "55942c7a",
   "metadata": {
    "ExecuteTime": {
     "end_time": "2022-05-25T01:00:20.788711Z",
     "start_time": "2022-05-25T01:00:20.414621Z"
    }
   },
   "outputs": [
    {
     "data": {
      "text/plain": [
       "<AxesSubplot:title={'center':'Cumulative Gains Curve'}, xlabel='Percentage of sample', ylabel='Gain'>"
      ]
     },
     "execution_count": 45,
     "metadata": {},
     "output_type": "execute_result"
    },
    {
     "data": {
      "image/png": "[encoded data removed]",
      "text/plain": [
       "<Figure size 720x432 with 1 Axes>"
      ]
     },
     "metadata": {},
     "output_type": "display_data"
    }
   ],
   "source": [
    "# Acumulative Gain\n",
    "skplt.metrics.plot_cumulative_gain(y_val, yhat_et)"
   ]
  },
  {
   "cell_type": "code",
   "execution_count": 46,
   "id": "61597247",
   "metadata": {
    "ExecuteTime": {
     "end_time": "2022-05-25T01:00:41.987295Z",
     "start_time": "2022-05-25T01:00:41.612927Z"
    },
    "scrolled": false
   },
   "outputs": [
    {
     "data": {
      "text/plain": [
       "<AxesSubplot:title={'center':'Lift Curve'}, xlabel='Percentage of sample', ylabel='Lift'>"
      ]
     },
     "execution_count": 46,
     "metadata": {},
     "output_type": "execute_result"
    },
    {
     "data": {
      "image/png": "[encoded data removed]",
      "text/plain": [
       "<Figure size 720x432 with 1 Axes>"
      ]
     },
     "metadata": {},
     "output_type": "display_data"
    }
   ],
   "source": [
    "# Lift curve\n",
    "skplt.metrics.plot_lift_curve(y_val, yhat_et)"
   ]
  },
  {
   "cell_type": "markdown",
   "id": "b47a5682",
   "metadata": {},
   "source": [
    "# 8.0. Performance Metrics"
   ]
  },
  {
   "cell_type": "code",
   "execution_count": 34,
   "id": "779c020e",
   "metadata": {
    "ExecuteTime": {
     "end_time": "2022-05-30T23:30:05.162078Z",
     "start_time": "2022-05-30T23:30:05.157266Z"
    }
   },
   "outputs": [],
   "source": [
    "def precision_at_k(data, k=10):\n",
    "    data = data.reset_index(drop = True)\n",
    "    data['ranking'] = data.index + 1\n",
    "    \n",
    "    data['precision_at_k'] = data['response'].cumsum() / data['ranking']\n",
    "    \n",
    "    return (data.loc[k, 'precision_at_k'], data)"
   ]
  },
  {
   "cell_type": "code",
   "execution_count": 35,
   "id": "077df41a",
   "metadata": {
    "ExecuteTime": {
     "end_time": "2022-05-30T23:30:11.496138Z",
     "start_time": "2022-05-30T23:30:11.491993Z"
    }
   },
   "outputs": [],
   "source": [
    "def recall_at_k(data, k=15):\n",
    "    data = data.reset_index(drop = True)\n",
    "    data['ranking'] = data.index + 1\n",
    "    \n",
    "    data['recall_at_k'] = data['response'].cumsum() / data['response'].sum()\n",
    "    \n",
    "    return (data.loc[k, 'recall_at_k'], data)"
   ]
  },
  {
   "cell_type": "code",
   "execution_count": 41,
   "id": "bc65abbb",
   "metadata": {
    "ExecuteTime": {
     "end_time": "2022-05-30T23:34:54.583625Z",
     "start_time": "2022-05-30T23:34:54.564661Z"
    }
   },
   "outputs": [
    {
     "data": {
      "text/html": [
       "<div>\n",
       "<style scoped>\n",
       "    .dataframe tbody tr th:only-of-type {\n",
       "        vertical-align: middle;\n",
       "    }\n",
       "\n",
       "    .dataframe tbody tr th {\n",
       "        vertical-align: top;\n",
       "    }\n",
       "\n",
       "    .dataframe thead th {\n",
       "        text-align: right;\n",
       "    }\n",
       "</style>\n",
       "<table border=\"1\" class=\"dataframe\">\n",
       "  <thead>\n",
       "    <tr style=\"text-align: right;\">\n",
       "      <th></th>\n",
       "      <th>id</th>\n",
       "      <th>gender</th>\n",
       "      <th>age</th>\n",
       "      <th>driving_license</th>\n",
       "      <th>region_code</th>\n",
       "      <th>previously_insured</th>\n",
       "      <th>vehicle_damage</th>\n",
       "      <th>annual_premium</th>\n",
       "      <th>policy_sales_channel</th>\n",
       "      <th>vintage</th>\n",
       "      <th>vehicle_age_1-2_year</th>\n",
       "      <th>vehicle_age_&lt;1_year</th>\n",
       "      <th>vehicle_age_&gt;2_years</th>\n",
       "      <th>response</th>\n",
       "      <th>score</th>\n",
       "    </tr>\n",
       "  </thead>\n",
       "  <tbody>\n",
       "    <tr>\n",
       "      <th>5034</th>\n",
       "      <td>5035</td>\n",
       "      <td>0.104335</td>\n",
       "      <td>0.292308</td>\n",
       "      <td>1</td>\n",
       "      <td>0.122177</td>\n",
       "      <td>0</td>\n",
       "      <td>1</td>\n",
       "      <td>-0.013865</td>\n",
       "      <td>0.209899</td>\n",
       "      <td>0.498270</td>\n",
       "      <td>1</td>\n",
       "      <td>0</td>\n",
       "      <td>0</td>\n",
       "      <td>1</td>\n",
       "      <td>1.0</td>\n",
       "    </tr>\n",
       "    <tr>\n",
       "      <th>233046</th>\n",
       "      <td>233047</td>\n",
       "      <td>0.104335</td>\n",
       "      <td>0.400000</td>\n",
       "      <td>1</td>\n",
       "      <td>0.125807</td>\n",
       "      <td>0</td>\n",
       "      <td>1</td>\n",
       "      <td>-1.623042</td>\n",
       "      <td>0.194260</td>\n",
       "      <td>0.391003</td>\n",
       "      <td>1</td>\n",
       "      <td>0</td>\n",
       "      <td>0</td>\n",
       "      <td>0</td>\n",
       "      <td>1.0</td>\n",
       "    </tr>\n",
       "    <tr>\n",
       "      <th>284197</th>\n",
       "      <td>284198</td>\n",
       "      <td>0.137843</td>\n",
       "      <td>0.538462</td>\n",
       "      <td>1</td>\n",
       "      <td>0.186680</td>\n",
       "      <td>0</td>\n",
       "      <td>1</td>\n",
       "      <td>-1.623042</td>\n",
       "      <td>0.209899</td>\n",
       "      <td>0.913495</td>\n",
       "      <td>1</td>\n",
       "      <td>0</td>\n",
       "      <td>0</td>\n",
       "      <td>0</td>\n",
       "      <td>1.0</td>\n",
       "    </tr>\n",
       "    <tr>\n",
       "      <th>309722</th>\n",
       "      <td>309723</td>\n",
       "      <td>0.104335</td>\n",
       "      <td>0.384615</td>\n",
       "      <td>1</td>\n",
       "      <td>0.081023</td>\n",
       "      <td>0</td>\n",
       "      <td>1</td>\n",
       "      <td>-1.623042</td>\n",
       "      <td>0.194260</td>\n",
       "      <td>0.117647</td>\n",
       "      <td>1</td>\n",
       "      <td>0</td>\n",
       "      <td>0</td>\n",
       "      <td>0</td>\n",
       "      <td>1.0</td>\n",
       "    </tr>\n",
       "    <tr>\n",
       "      <th>46756</th>\n",
       "      <td>46757</td>\n",
       "      <td>0.104335</td>\n",
       "      <td>0.292308</td>\n",
       "      <td>1</td>\n",
       "      <td>0.186680</td>\n",
       "      <td>0</td>\n",
       "      <td>1</td>\n",
       "      <td>-1.623042</td>\n",
       "      <td>0.209899</td>\n",
       "      <td>0.508651</td>\n",
       "      <td>1</td>\n",
       "      <td>0</td>\n",
       "      <td>0</td>\n",
       "      <td>1</td>\n",
       "      <td>1.0</td>\n",
       "    </tr>\n",
       "  </tbody>\n",
       "</table>\n",
       "</div>"
      ],
      "text/plain": [
       "            id    gender       age  driving_license  region_code  previously_insured  vehicle_damage  annual_premium  policy_sales_channel   vintage  vehicle_age_1-2_year  vehicle_age_<1_year  vehicle_age_>2_years  response  score\n",
       "5034      5035  0.104335  0.292308                1     0.122177                   0               1       -0.013865              0.209899  0.498270                     1                    0                     0         1    1.0\n",
       "233046  233047  0.104335  0.400000                1     0.125807                   0               1       -1.623042              0.194260  0.391003                     1                    0                     0         0    1.0\n",
       "284197  284198  0.137843  0.538462                1     0.186680                   0               1       -1.623042              0.209899  0.913495                     1                    0                     0         0    1.0\n",
       "309722  309723  0.104335  0.384615                1     0.081023                   0               1       -1.623042              0.194260  0.117647                     1                    0                     0         0    1.0\n",
       "46756    46757  0.104335  0.292308                1     0.186680                   0               1       -1.623042              0.209899  0.508651                     1                    0                     0         1    1.0"
      ]
     },
     "execution_count": 41,
     "metadata": {},
     "output_type": "execute_result"
    }
   ],
   "source": [
    "df8.head()"
   ]
  },
  {
   "cell_type": "code",
   "execution_count": 36,
   "id": "0408d0cc",
   "metadata": {
    "ExecuteTime": {
     "end_time": "2022-05-30T23:30:19.542526Z",
     "start_time": "2022-05-30T23:30:19.445678Z"
    }
   },
   "outputs": [],
   "source": [
    "# data copy\n",
    "df8 = x_validation.copy()\n",
    "df8['response'] = y_validation.copy()\n",
    "\n",
    "#propensity score\n",
    "df8['score'] = yhat_et[:, 1].tolist()\n",
    "\n",
    "# sort clients by propensity score\n",
    "df8 = df8.sort_values('score', ascending=False)\n",
    "\n",
    "# compute precision at k\n",
    "precision_at_20, data = precision_at_k(df8, k = 20)\n",
    "\n",
    "#compute recall at k\n",
    "recall_at_15, data = recall_at_k(df8, k = 15)"
   ]
  },
  {
   "cell_type": "markdown",
   "id": "0e1fba10",
   "metadata": {},
   "source": [
    "## Cummulative Curve Manually"
   ]
  },
  {
   "cell_type": "code",
   "execution_count": 42,
   "id": "65238fe3",
   "metadata": {
    "ExecuteTime": {
     "end_time": "2022-05-30T23:42:08.493273Z",
     "start_time": "2022-05-30T23:41:59.680713Z"
    }
   },
   "outputs": [
    {
     "data": {
      "text/plain": [
       "<AxesSubplot:xlabel='base_cum_perc', ylabel='real_cum_perc'>"
      ]
     },
     "execution_count": 42,
     "metadata": {},
     "output_type": "execute_result"
    },
    {
     "data": {
      "image/png": "[encoded data removed]",
      "text/plain": [
       "<Figure size 864x576 with 1 Axes>"
      ]
     },
     "metadata": {},
     "output_type": "display_data"
    }
   ],
   "source": [
    "results = pd.DataFrame()\n",
    "results['prediction'] = yhat_et[:,1].tolist()\n",
    "results['real'] = y_val.tolist()\n",
    "\n",
    "# ordering by prediction\n",
    "results = results.sort_values('prediction', ascending = False)\n",
    "\n",
    "# Percentage of interest (Propensity Score)\n",
    "results['real_cum'] = results['real'].cumsum()\n",
    "results['real_cum_perc'] = 100*results['real_cum']/results['real'].sum()\n",
    "\n",
    "# Percentage of Base (Clients)\n",
    "results['base'] = range(1, len(results) + 1)\n",
    "results['base_cum_perc'] = 100*results['base']/len(results)\n",
    "\n",
    "# baseline model\n",
    "results['baseline'] = results['base_cum_perc']\n",
    "\n",
    "plt.figure(figsize = (12,8))\n",
    "sns.lineplot(x = 'base_cum_perc', y = 'real_cum_perc', data = results)\n",
    "sns.lineplot(x = 'base_cum_perc', y = 'baseline', data = results)"
   ]
  },
  {
   "cell_type": "markdown",
   "id": "54df4797",
   "metadata": {},
   "source": [
    "## Lift Curve Manually"
   ]
  },
  {
   "cell_type": "code",
   "execution_count": 45,
   "id": "3699cc63",
   "metadata": {
    "ExecuteTime": {
     "end_time": "2022-05-30T23:48:37.787171Z",
     "start_time": "2022-05-30T23:48:33.459415Z"
    },
    "scrolled": false
   },
   "outputs": [
    {
     "data": {
      "text/plain": [
       "<AxesSubplot:xlabel='base_cum_perc', ylabel='lift'>"
      ]
     },
     "execution_count": 45,
     "metadata": {},
     "output_type": "execute_result"
    },
    {
     "data": {
      "image/png": "[encoded data removed]",
      "text/plain": [
       "<Figure size 864x576 with 1 Axes>"
      ]
     },
     "metadata": {},
     "output_type": "display_data"
    }
   ],
   "source": [
    "results = pd.DataFrame()\n",
    "results['prediction'] = yhat_et[:, 1].tolist()\n",
    "results['real'] = y_val.tolist()\n",
    "\n",
    "# Ordering by prediction\n",
    "results = results.sort_values('prediction', ascending = False)\n",
    "\n",
    "# Percentage of interest (Propensity Score)\n",
    "results['real_cum'] = results['real'].cumsum()\n",
    "results['real_cum_perc'] = 100*results['real_cum']/results['real'].sum()\n",
    "\n",
    "# Percentage of Base (Clients)\n",
    "results['base'] = range(1, len(results) + 1)\n",
    "results['base_cum_perc'] = 100*results['base']/len(results)\n",
    "\n",
    "# Baseline model\n",
    "results['baseline'] = results['base_cum_perc']\n",
    "\n",
    "# Lift calculation\n",
    "results['lift'] = results['real_cum_perc']/results['base_cum_perc']\n",
    "\n",
    "plt.figure(figsize(12,8))\n",
    "sns.lineplot(x = 'base_cum_perc', y = 'lift', data = results)"
   ]
  },
  {
   "cell_type": "markdown",
   "id": "929062b2",
   "metadata": {},
   "source": [
    "## ROI Curve Manually"
   ]
  },
  {
   "cell_type": "code",
   "execution_count": 54,
   "id": "9852e683",
   "metadata": {
    "ExecuteTime": {
     "end_time": "2022-05-31T00:12:29.815165Z",
     "start_time": "2022-05-31T00:12:29.703573Z"
    }
   },
   "outputs": [],
   "source": [
    "results = pd.DataFrame()\n",
    "results['prediction'] = yhat_et[:, 1].tolist()\n",
    "results['real'] = y_val.tolist()\n",
    "\n",
    "# Ordering by prediction\n",
    "results = results.sort_values('prediction', ascending = False)\n",
    "\n",
    "# Percentage of interest (Propensity Score)\n",
    "results['real_cum'] = results['real'].cumsum()\n",
    "results['real_cum_perc'] = 100*results['real_cum']/results['real'].sum()\n",
    "\n",
    "# Percentage of Base (Clients)\n",
    "results['base'] = range(1, len(results) + 1)\n",
    "results['base_cum_perc'] = 100*results['base']/len(results)\n",
    "\n",
    "# Baseline model\n",
    "results['baseline'] = results['base_cum_perc']\n",
    "\n",
    "# Lift calculation\n",
    "results['lift'] = results['real_cum_perc']/results['base_cum_perc']\n",
    "\n",
    "# ROI Curve\n",
    "\n",
    "#plt.figure(figsize(12,8))\n",
    "#sns.lineplot(x = 'base_cum_perc', y = 'lift', data = results)"
   ]
  },
  {
   "cell_type": "code",
   "execution_count": 56,
   "id": "21e5e05a",
   "metadata": {
    "ExecuteTime": {
     "end_time": "2022-05-31T00:19:09.912769Z",
     "start_time": "2022-05-31T00:19:09.899208Z"
    }
   },
   "outputs": [
    {
     "data": {
      "text/html": [
       "<div>\n",
       "<style scoped>\n",
       "    .dataframe tbody tr th:only-of-type {\n",
       "        vertical-align: middle;\n",
       "    }\n",
       "\n",
       "    .dataframe tbody tr th {\n",
       "        vertical-align: top;\n",
       "    }\n",
       "\n",
       "    .dataframe thead th {\n",
       "        text-align: right;\n",
       "    }\n",
       "</style>\n",
       "<table border=\"1\" class=\"dataframe\">\n",
       "  <thead>\n",
       "    <tr style=\"text-align: right;\">\n",
       "      <th></th>\n",
       "      <th>prediction</th>\n",
       "      <th>real</th>\n",
       "      <th>real_cum</th>\n",
       "      <th>real_cum_perc</th>\n",
       "      <th>base</th>\n",
       "      <th>base_cum_perc</th>\n",
       "      <th>baseline</th>\n",
       "      <th>lift</th>\n",
       "      <th>bucket</th>\n",
       "    </tr>\n",
       "  </thead>\n",
       "  <tbody>\n",
       "    <tr>\n",
       "      <th>57713</th>\n",
       "      <td>1.0</td>\n",
       "      <td>1</td>\n",
       "      <td>1</td>\n",
       "      <td>0.007119</td>\n",
       "      <td>1</td>\n",
       "      <td>0.000875</td>\n",
       "      <td>0.000875</td>\n",
       "      <td>8.139897</td>\n",
       "      <td>0.9</td>\n",
       "    </tr>\n",
       "    <tr>\n",
       "      <th>101390</th>\n",
       "      <td>1.0</td>\n",
       "      <td>0</td>\n",
       "      <td>1</td>\n",
       "      <td>0.007119</td>\n",
       "      <td>2</td>\n",
       "      <td>0.001749</td>\n",
       "      <td>0.001749</td>\n",
       "      <td>4.069949</td>\n",
       "      <td>0.9</td>\n",
       "    </tr>\n",
       "    <tr>\n",
       "      <th>79687</th>\n",
       "      <td>1.0</td>\n",
       "      <td>0</td>\n",
       "      <td>1</td>\n",
       "      <td>0.007119</td>\n",
       "      <td>3</td>\n",
       "      <td>0.002624</td>\n",
       "      <td>0.002624</td>\n",
       "      <td>2.713299</td>\n",
       "      <td>0.9</td>\n",
       "    </tr>\n",
       "    <tr>\n",
       "      <th>18188</th>\n",
       "      <td>1.0</td>\n",
       "      <td>0</td>\n",
       "      <td>1</td>\n",
       "      <td>0.007119</td>\n",
       "      <td>4</td>\n",
       "      <td>0.003499</td>\n",
       "      <td>0.003499</td>\n",
       "      <td>2.034974</td>\n",
       "      <td>0.9</td>\n",
       "    </tr>\n",
       "    <tr>\n",
       "      <th>111072</th>\n",
       "      <td>1.0</td>\n",
       "      <td>1</td>\n",
       "      <td>2</td>\n",
       "      <td>0.014239</td>\n",
       "      <td>5</td>\n",
       "      <td>0.004373</td>\n",
       "      <td>0.004373</td>\n",
       "      <td>3.255959</td>\n",
       "      <td>0.9</td>\n",
       "    </tr>\n",
       "  </tbody>\n",
       "</table>\n",
       "</div>"
      ],
      "text/plain": [
       "        prediction  real  real_cum  real_cum_perc  base  base_cum_perc  baseline      lift  bucket\n",
       "57713          1.0     1         1       0.007119     1       0.000875  0.000875  8.139897     0.9\n",
       "101390         1.0     0         1       0.007119     2       0.001749  0.001749  4.069949     0.9\n",
       "79687          1.0     0         1       0.007119     3       0.002624  0.002624  2.713299     0.9\n",
       "18188          1.0     0         1       0.007119     4       0.003499  0.003499  2.034974     0.9\n",
       "111072         1.0     1         2       0.014239     5       0.004373  0.004373  3.255959     0.9"
      ]
     },
     "execution_count": 56,
     "metadata": {},
     "output_type": "execute_result"
    }
   ],
   "source": [
    "results.head()"
   ]
  },
  {
   "cell_type": "code",
   "execution_count": 55,
   "id": "e164c3b2",
   "metadata": {
    "ExecuteTime": {
     "end_time": "2022-05-31T00:12:32.283259Z",
     "start_time": "2022-05-31T00:12:32.153751Z"
    },
    "scrolled": false
   },
   "outputs": [
    {
     "data": {
      "text/html": [
       "<div>\n",
       "<style scoped>\n",
       "    .dataframe tbody tr th:only-of-type {\n",
       "        vertical-align: middle;\n",
       "    }\n",
       "\n",
       "    .dataframe tbody tr th {\n",
       "        vertical-align: top;\n",
       "    }\n",
       "\n",
       "    .dataframe thead th {\n",
       "        text-align: right;\n",
       "    }\n",
       "</style>\n",
       "<table border=\"1\" class=\"dataframe\">\n",
       "  <thead>\n",
       "    <tr style=\"text-align: right;\">\n",
       "      <th></th>\n",
       "      <th>index</th>\n",
       "      <th>clients</th>\n",
       "      <th>propensity_score</th>\n",
       "      <th>gross_revenue</th>\n",
       "      <th>cost</th>\n",
       "      <th>base</th>\n",
       "      <th>revenue</th>\n",
       "    </tr>\n",
       "  </thead>\n",
       "  <tbody>\n",
       "    <tr>\n",
       "      <th>9</th>\n",
       "      <td>0.90</td>\n",
       "      <td>219</td>\n",
       "      <td>0.9</td>\n",
       "      <td>7884.0</td>\n",
       "      <td>876</td>\n",
       "      <td>1.000000</td>\n",
       "      <td>7008.0</td>\n",
       "    </tr>\n",
       "    <tr>\n",
       "      <th>8</th>\n",
       "      <td>0.80</td>\n",
       "      <td>447</td>\n",
       "      <td>0.8</td>\n",
       "      <td>14304.0</td>\n",
       "      <td>1788</td>\n",
       "      <td>0.998085</td>\n",
       "      <td>12516.0</td>\n",
       "    </tr>\n",
       "    <tr>\n",
       "      <th>7</th>\n",
       "      <td>0.70</td>\n",
       "      <td>851</td>\n",
       "      <td>0.7</td>\n",
       "      <td>23828.0</td>\n",
       "      <td>3404</td>\n",
       "      <td>0.994175</td>\n",
       "      <td>20424.0</td>\n",
       "    </tr>\n",
       "    <tr>\n",
       "      <th>6</th>\n",
       "      <td>0.60</td>\n",
       "      <td>1781</td>\n",
       "      <td>0.6</td>\n",
       "      <td>42744.0</td>\n",
       "      <td>7124</td>\n",
       "      <td>0.986732</td>\n",
       "      <td>35620.0</td>\n",
       "    </tr>\n",
       "    <tr>\n",
       "      <th>5</th>\n",
       "      <td>0.50</td>\n",
       "      <td>3109</td>\n",
       "      <td>0.5</td>\n",
       "      <td>62180.0</td>\n",
       "      <td>12436</td>\n",
       "      <td>0.971154</td>\n",
       "      <td>49744.0</td>\n",
       "    </tr>\n",
       "    <tr>\n",
       "      <th>4</th>\n",
       "      <td>0.40</td>\n",
       "      <td>5020</td>\n",
       "      <td>0.4</td>\n",
       "      <td>80320.0</td>\n",
       "      <td>20080</td>\n",
       "      <td>0.943962</td>\n",
       "      <td>60240.0</td>\n",
       "    </tr>\n",
       "    <tr>\n",
       "      <th>3</th>\n",
       "      <td>0.30</td>\n",
       "      <td>7825</td>\n",
       "      <td>0.3</td>\n",
       "      <td>93900.0</td>\n",
       "      <td>31300</td>\n",
       "      <td>0.900055</td>\n",
       "      <td>62600.0</td>\n",
       "    </tr>\n",
       "    <tr>\n",
       "      <th>2</th>\n",
       "      <td>0.20</td>\n",
       "      <td>10529</td>\n",
       "      <td>0.2</td>\n",
       "      <td>84232.0</td>\n",
       "      <td>42116</td>\n",
       "      <td>0.831615</td>\n",
       "      <td>42116.0</td>\n",
       "    </tr>\n",
       "    <tr>\n",
       "      <th>1</th>\n",
       "      <td>0.10</td>\n",
       "      <td>12505</td>\n",
       "      <td>0.1</td>\n",
       "      <td>50020.0</td>\n",
       "      <td>50020</td>\n",
       "      <td>0.739524</td>\n",
       "      <td>0.0</td>\n",
       "    </tr>\n",
       "    <tr>\n",
       "      <th>0</th>\n",
       "      <td>0.01</td>\n",
       "      <td>72047</td>\n",
       "      <td>0.0</td>\n",
       "      <td>0.0</td>\n",
       "      <td>288188</td>\n",
       "      <td>0.630151</td>\n",
       "      <td>-288188.0</td>\n",
       "    </tr>\n",
       "  </tbody>\n",
       "</table>\n",
       "</div>"
      ],
      "text/plain": [
       "   index  clients  propensity_score  gross_revenue    cost      base   revenue\n",
       "9   0.90      219               0.9         7884.0     876  1.000000    7008.0\n",
       "8   0.80      447               0.8        14304.0    1788  0.998085   12516.0\n",
       "7   0.70      851               0.7        23828.0    3404  0.994175   20424.0\n",
       "6   0.60     1781               0.6        42744.0    7124  0.986732   35620.0\n",
       "5   0.50     3109               0.5        62180.0   12436  0.971154   49744.0\n",
       "4   0.40     5020               0.4        80320.0   20080  0.943962   60240.0\n",
       "3   0.30     7825               0.3        93900.0   31300  0.900055   62600.0\n",
       "2   0.20    10529               0.2        84232.0   42116  0.831615   42116.0\n",
       "1   0.10    12505               0.1        50020.0   50020  0.739524       0.0\n",
       "0   0.01    72047               0.0            0.0  288188  0.630151 -288188.0"
      ]
     },
     "execution_count": 55,
     "metadata": {},
     "output_type": "execute_result"
    }
   ],
   "source": [
    "# Compute bucket\n",
    "results['bucket'] = results['prediction'].apply(lambda x: 0.9 if x >=0.90 else\n",
    "                                                          0.8 if(x >= 0.80) & (x <= 0.90) else\n",
    "                                                          0.7 if(x >= 0.70) & (x <= 0.80) else\n",
    "                                                          0.6 if(x >= 0.60) & (x <= 0.70) else\n",
    "                                                          0.5 if(x >= 0.50) & (x <= 0.60) else\n",
    "                                                          0.4 if(x >= 0.40) & (x <= 0.50) else\n",
    "                                                          0.3 if(x >= 0.30) & (x <= 0.40) else\n",
    "                                                          0.2 if(x >= 0.20) & (x <= 0.30) else\n",
    "                                                          0.1 if(x >= 0.10) & (x <= 0.20) else 0.01)\n",
    "\n",
    "# Aggregate clients among buckets\n",
    "df = results[['prediction', 'bucket']].groupby('bucket').agg({ 'min', 'count'}).reset_index()\n",
    "df.columns = df.columns.droplevel()\n",
    "df.columns = ['index', 'clients', 'propensity_score']\n",
    "\n",
    "# Compute revenue and cost\n",
    "df['gross_revenue'] = 40 *df['clients'] * df['propensity_score']\n",
    "df['cost'] = 4 * df['clients']\n",
    "\n",
    "df['base'] = df['clients'].sort_values(ascending = False).cumsum() / df['clients'].sum()\n",
    "\n",
    "# revenue\n",
    "df['revenue'] = df['gross_revenue'] - df['cost']\n",
    "df = df.sort_values('index', ascending = False)\n",
    "df"
   ]
  },
  {
   "cell_type": "code",
   "execution_count": 49,
   "id": "b09f4367",
   "metadata": {
    "ExecuteTime": {
     "end_time": "2022-05-31T00:06:56.532463Z",
     "start_time": "2022-05-31T00:06:56.200035Z"
    }
   },
   "outputs": [
    {
     "data": {
      "text/plain": [
       "<AxesSubplot:xlabel='base', ylabel='revenue'>"
      ]
     },
     "execution_count": 49,
     "metadata": {},
     "output_type": "execute_result"
    },
    {
     "data": {
      "image/png": "[encoded data removed]",
      "text/plain": [
       "<Figure size 864x576 with 1 Axes>"
      ]
     },
     "metadata": {},
     "output_type": "display_data"
    }
   ],
   "source": [
    "plt.figure(figsize(12,8))\n",
    "aux = df[df['propensity_score'] >= 0.01]\n",
    "sns.lineplot(x = 'base', y = 'revenue', data = aux)"
   ]
  },
  {
   "cell_type": "code",
   "execution_count": null,
   "id": "51624ab5",
   "metadata": {},
   "outputs": [],
   "source": []
  },
  {
   "cell_type": "code",
   "execution_count": null,
   "id": "afed2deb",
   "metadata": {},
   "outputs": [],
   "source": []
  },
  {
   "cell_type": "code",
   "execution_count": null,
   "id": "fb2e5c4b",
   "metadata": {},
   "outputs": [],
   "source": []
  },
  {
   "cell_type": "code",
   "execution_count": null,
   "id": "940ceca3",
   "metadata": {},
   "outputs": [],
   "source": []
  },
  {
   "cell_type": "code",
   "execution_count": null,
   "id": "a76264a4",
   "metadata": {},
   "outputs": [],
   "source": []
  },
  {
   "cell_type": "code",
   "execution_count": null,
   "id": "6b3bca1b",
   "metadata": {},
   "outputs": [],
   "source": []
  }
 ],
 "metadata": {
  "kernelspec": {
   "display_name": "Python 3 (ipykernel)",
   "language": "python",
   "name": "python3"
  },
  "language_info": {
   "codemirror_mode": {
    "name": "ipython",
    "version": 3
   },
   "file_extension": ".py",
   "mimetype": "text/x-python",
   "name": "python",
   "nbconvert_exporter": "python",
   "pygments_lexer": "ipython3",
   "version": "3.8.10"
  }
 },
 "nbformat": 4,
 "nbformat_minor": 5
}
