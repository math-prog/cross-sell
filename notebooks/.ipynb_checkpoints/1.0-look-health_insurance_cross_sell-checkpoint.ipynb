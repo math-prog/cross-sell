{
 "cells": [
  {
   "cell_type": "markdown",
   "id": "1903770b",
   "metadata": {
    "hide_input": true
   },
   "source": [
    "# 0.0 Imports"
   ]
  },
  {
   "cell_type": "code",
   "execution_count": 42,
   "id": "de4fb1cc",
   "metadata": {
    "ExecuteTime": {
     "end_time": "2022-04-24T22:13:49.083214Z",
     "start_time": "2022-04-24T22:13:49.074426Z"
    }
   },
   "outputs": [],
   "source": [
    "import os\n",
    "import warnings \n",
    "import pandas    as pd\n",
    "import numpy     as np\n",
    "import seaborn   as sns\n",
    "import psycopg2  as pg\n",
    "\n",
    "from sqlalchemy              import create_engine\n",
    "from IPython.display         import Image\n",
    "from IPython.core.display    import HTML\n",
    "from sklearn.model_selection import train_test_split\n",
    "\n",
    "\n",
    "warnings.filterwarnings('ignore')"
   ]
  },
  {
   "cell_type": "markdown",
   "id": "136f27a4",
   "metadata": {},
   "source": [
    "# 0.1 Helper Functions"
   ]
  },
  {
   "cell_type": "code",
   "execution_count": 29,
   "id": "71ed7bd2",
   "metadata": {
    "ExecuteTime": {
     "end_time": "2022-04-24T21:58:38.185823Z",
     "start_time": "2022-04-24T21:58:38.160473Z"
    }
   },
   "outputs": [
    {
     "name": "stdout",
     "output_type": "stream",
     "text": [
      "Populating the interactive namespace from numpy and matplotlib\n"
     ]
    },
    {
     "data": {
      "text/html": [
       "<style>.container { width:100% !important; }</style>"
      ],
      "text/plain": [
       "<IPython.core.display.HTML object>"
      ]
     },
     "metadata": {},
     "output_type": "display_data"
    }
   ],
   "source": [
    "def jupyter_settings():\n",
    "    %matplotlib inline\n",
    "    %pylab inline\n",
    "    \n",
    "    plt.style.use( 'bmh' )\n",
    "    plt.rcParams['figure.figsize'] = [25, 12]\n",
    "    plt.rcParams['font.size'] = 24\n",
    "    \n",
    "    display( HTML( '<style>.container { width:100% !important; }</style>') )\n",
    "    pd.options.display.max_columns = None\n",
    "    pd.options.display.max_rows = None\n",
    "    pd.set_option( 'display.expand_frame_repr', False )\n",
    "    \n",
    "    sns.set()\n",
    "    \n",
    "jupyter_settings()    "
   ]
  },
  {
   "cell_type": "markdown",
   "id": "a99b5302",
   "metadata": {},
   "source": [
    "# 0.2 Get Data with SQL"
   ]
  },
  {
   "cell_type": "code",
   "execution_count": 30,
   "id": "da551401",
   "metadata": {
    "ExecuteTime": {
     "end_time": "2022-04-24T22:02:08.251621Z",
     "start_time": "2022-04-24T21:59:00.908960Z"
    }
   },
   "outputs": [
    {
     "data": {
      "text/html": [
       "<div>\n",
       "<style scoped>\n",
       "    .dataframe tbody tr th:only-of-type {\n",
       "        vertical-align: middle;\n",
       "    }\n",
       "\n",
       "    .dataframe tbody tr th {\n",
       "        vertical-align: top;\n",
       "    }\n",
       "\n",
       "    .dataframe thead th {\n",
       "        text-align: right;\n",
       "    }\n",
       "</style>\n",
       "<table border=\"1\" class=\"dataframe\">\n",
       "  <thead>\n",
       "    <tr style=\"text-align: right;\">\n",
       "      <th></th>\n",
       "      <th>gender</th>\n",
       "      <th>age</th>\n",
       "      <th>region_code</th>\n",
       "      <th>policy_sales_channel</th>\n",
       "      <th>driving_license</th>\n",
       "      <th>vehicle_age</th>\n",
       "      <th>vehicle_damage</th>\n",
       "      <th>previously_insured</th>\n",
       "      <th>annual_premium</th>\n",
       "      <th>vintage</th>\n",
       "      <th>response</th>\n",
       "    </tr>\n",
       "  </thead>\n",
       "  <tbody>\n",
       "    <tr>\n",
       "      <th>0</th>\n",
       "      <td>Male</td>\n",
       "      <td>23</td>\n",
       "      <td>11.0</td>\n",
       "      <td>152.0</td>\n",
       "      <td>1</td>\n",
       "      <td>&lt; 1 Year</td>\n",
       "      <td>Yes</td>\n",
       "      <td>0</td>\n",
       "      <td>23367.0</td>\n",
       "      <td>249</td>\n",
       "      <td>0</td>\n",
       "    </tr>\n",
       "    <tr>\n",
       "      <th>1</th>\n",
       "      <td>Female</td>\n",
       "      <td>41</td>\n",
       "      <td>15.0</td>\n",
       "      <td>14.0</td>\n",
       "      <td>1</td>\n",
       "      <td>1-2 Year</td>\n",
       "      <td>No</td>\n",
       "      <td>1</td>\n",
       "      <td>31409.0</td>\n",
       "      <td>221</td>\n",
       "      <td>0</td>\n",
       "    </tr>\n",
       "    <tr>\n",
       "      <th>2</th>\n",
       "      <td>Female</td>\n",
       "      <td>25</td>\n",
       "      <td>35.0</td>\n",
       "      <td>152.0</td>\n",
       "      <td>1</td>\n",
       "      <td>&lt; 1 Year</td>\n",
       "      <td>No</td>\n",
       "      <td>1</td>\n",
       "      <td>46622.0</td>\n",
       "      <td>299</td>\n",
       "      <td>0</td>\n",
       "    </tr>\n",
       "    <tr>\n",
       "      <th>3</th>\n",
       "      <td>Female</td>\n",
       "      <td>26</td>\n",
       "      <td>8.0</td>\n",
       "      <td>160.0</td>\n",
       "      <td>1</td>\n",
       "      <td>&lt; 1 Year</td>\n",
       "      <td>No</td>\n",
       "      <td>0</td>\n",
       "      <td>2630.0</td>\n",
       "      <td>136</td>\n",
       "      <td>0</td>\n",
       "    </tr>\n",
       "    <tr>\n",
       "      <th>4</th>\n",
       "      <td>Male</td>\n",
       "      <td>45</td>\n",
       "      <td>8.0</td>\n",
       "      <td>124.0</td>\n",
       "      <td>1</td>\n",
       "      <td>1-2 Year</td>\n",
       "      <td>Yes</td>\n",
       "      <td>0</td>\n",
       "      <td>42297.0</td>\n",
       "      <td>264</td>\n",
       "      <td>0</td>\n",
       "    </tr>\n",
       "  </tbody>\n",
       "</table>\n",
       "</div>"
      ],
      "text/plain": [
       "   gender  age  region_code  policy_sales_channel  driving_license vehicle_age vehicle_damage  previously_insured  annual_premium  vintage  response\n",
       "0    Male   23         11.0                 152.0                1    < 1 Year            Yes                   0         23367.0      249         0\n",
       "1  Female   41         15.0                  14.0                1    1-2 Year             No                   1         31409.0      221         0\n",
       "2  Female   25         35.0                 152.0                1    < 1 Year             No                   1         46622.0      299         0\n",
       "3  Female   26          8.0                 160.0                1    < 1 Year             No                   0          2630.0      136         0\n",
       "4    Male   45          8.0                 124.0                1    1-2 Year            Yes                   0         42297.0      264         0"
      ]
     },
     "execution_count": 30,
     "metadata": {},
     "output_type": "execute_result"
    }
   ],
   "source": [
    "# Credentials\n",
    "HOST = 'comunidade-ds-postgres.c50pcakiuwi3.us-east-1.rds.amazonaws.com'\n",
    "PORT = '5432'\n",
    "DATABASE = 'comunidadedsdb'\n",
    "USER = 'member'\n",
    "PASSWORD ='cdspa'\n",
    "\n",
    "# Creating connection\n",
    "conn = pg.connect(host = HOST,\n",
    "                  port = PORT,\n",
    "                  database = DATABASE,\n",
    "                  user = USER,\n",
    "                  password = PASSWORD)\n",
    "\n",
    "# Query to get data\n",
    "query = '''\n",
    "        SELECT *\n",
    "        FROM pa004.users u INNER JOIN pa004.vehicle v   ON (u.id = v.id)\n",
    "                           INNER JOIN pa004.insurance i ON (u.id = i.id)\n",
    "        '''\n",
    "\n",
    "# Dataframe of dataset SQL\n",
    "df1 = pd.read_sql_query(query, conn)\n",
    "df1 = df1.drop(df1.columns[[5, 9]], axis = 1)\n",
    "df1.head(5)"
   ]
  },
  {
   "cell_type": "code",
   "execution_count": 31,
   "id": "8be5d290",
   "metadata": {
    "ExecuteTime": {
     "end_time": "2022-04-24T22:03:17.301308Z",
     "start_time": "2022-04-24T22:03:17.084680Z"
    }
   },
   "outputs": [],
   "source": [
    "# Creating train and validation dataset\n",
    "train, validation = train_test_split(df1, test_size = 0.2, random_state = 21)\n",
    "\n",
    "# Writing train and validation on folder\n",
    "write_train = train.to_csv('repos/pa004/pa004_health_insurance_cross_sell/health_insurance_cross-sell_v2/data/train.csv')\n",
    "write_validation = validation.to_csv('repos/pa004/pa004_health_insurance_cross_sell/health_insurance_cross-sell_v2/data/test.csv')"
   ]
  },
  {
   "cell_type": "markdown",
   "id": "f63b73f9",
   "metadata": {},
   "source": [
    "# 0.3 Loading Data"
   ]
  },
  {
   "cell_type": "code",
   "execution_count": null,
   "id": "53d86e5f",
   "metadata": {},
   "outputs": [],
   "source": []
  }
 ],
 "metadata": {
  "kernelspec": {
   "display_name": "Python 3 (ipykernel)",
   "language": "python",
   "name": "python3"
  },
  "language_info": {
   "codemirror_mode": {
    "name": "ipython",
    "version": 3
   },
   "file_extension": ".py",
   "mimetype": "text/x-python",
   "name": "python",
   "nbconvert_exporter": "python",
   "pygments_lexer": "ipython3",
   "version": "3.8.10"
  }
 },
 "nbformat": 4,
 "nbformat_minor": 5
}
